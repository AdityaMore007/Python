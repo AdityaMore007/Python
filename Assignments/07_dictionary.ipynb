{
 "cells": [
  {
   "cell_type": "markdown",
   "metadata": {},
   "source": [
    "#### Dictionary\n",
    "dictionary are ordered collection of items.they store data in key-value pairs.Keys must be unique and immutable(eg. strings, numbers, or tuples) while values can be of any types."
   ]
  },
  {
   "cell_type": "code",
   "execution_count": 4,
   "metadata": {},
   "outputs": [
    {
     "name": "stdout",
     "output_type": "stream",
     "text": [
      "<class 'dict'>\n"
     ]
    }
   ],
   "source": [
    "empty_dict = {}\n",
    "print(type(empty_dict))"
   ]
  },
  {
   "cell_type": "code",
   "execution_count": 5,
   "metadata": {},
   "outputs": [
    {
     "data": {
      "text/plain": [
       "{}"
      ]
     },
     "execution_count": 5,
     "metadata": {},
     "output_type": "execute_result"
    }
   ],
   "source": [
    "empty_dict = dict()\n",
    "empty_dict"
   ]
  },
  {
   "cell_type": "code",
   "execution_count": 8,
   "metadata": {},
   "outputs": [
    {
     "name": "stdout",
     "output_type": "stream",
     "text": [
      "{'name': 'Aditya', 'age': 32, 'grade': 24}\n",
      "<class 'dict'>\n"
     ]
    }
   ],
   "source": [
    "student = {\"name\": \"Aditya\" , \"age\": 32 , \"grade\": 24}\n",
    "print(student)\n",
    "print(type(student))"
   ]
  },
  {
   "cell_type": "code",
   "execution_count": 10,
   "metadata": {},
   "outputs": [
    {
     "name": "stdout",
     "output_type": "stream",
     "text": [
      "{'name': 24, 'age': 32}\n"
     ]
    }
   ],
   "source": [
    "## error\n",
    "student = {\"name\": \"Aditya\" , \"age\": 32 , \"name\": 24}\n",
    "print(student)\n",
    "## so here basically value gets replaced in 'name'\n",
    "## SINGLE KEY IS ALWAYS USED."
   ]
  },
  {
   "cell_type": "code",
   "execution_count": 13,
   "metadata": {},
   "outputs": [
    {
     "name": "stdout",
     "output_type": "stream",
     "text": [
      "{'name': 'Aditya', 'age': 32, 'grade': 'S'}\n"
     ]
    }
   ],
   "source": [
    "student = {\"name\": \"Aditya\" , \"age\": 32 , \"grade\": 'S'}\n",
    "print(student)"
   ]
  },
  {
   "cell_type": "code",
   "execution_count": 19,
   "metadata": {},
   "outputs": [
    {
     "name": "stdout",
     "output_type": "stream",
     "text": [
      "S\n",
      "32\n",
      "S\n",
      "None\n",
      "Not Available\n",
      "None\n"
     ]
    }
   ],
   "source": [
    "## Accessing dictionary element.\n",
    "print(student['grade'])\n",
    "print(student['age'])\n",
    "\n",
    "## Accessing using get() method\n",
    "print(student.get('grade'))\n",
    "print(student.get('last_name'))\n",
    "print(student.get('last_name','Not Available'))\n",
    "print(student.get('last_name'))"
   ]
  },
  {
   "cell_type": "code",
   "execution_count": 20,
   "metadata": {},
   "outputs": [
    {
     "name": "stdout",
     "output_type": "stream",
     "text": [
      "{'name': 'Aditya', 'age': 33, 'grade': 'S'}\n",
      "{'name': 'Aditya', 'age': 33, 'grade': 'S', 'address': 'India'}\n"
     ]
    }
   ],
   "source": [
    "student[\"age\"] = 33\n",
    "print(student)\n",
    "student[\"address\"] = \"India\"\n",
    "print(student)"
   ]
  },
  {
   "cell_type": "code",
   "execution_count": 21,
   "metadata": {},
   "outputs": [],
   "source": [
    "del student['grade']"
   ]
  },
  {
   "cell_type": "code",
   "execution_count": 22,
   "metadata": {},
   "outputs": [
    {
     "name": "stdout",
     "output_type": "stream",
     "text": [
      "{'name': 'Aditya', 'age': 33, 'address': 'India'}\n"
     ]
    }
   ],
   "source": [
    "print(student)"
   ]
  },
  {
   "cell_type": "code",
   "execution_count": 23,
   "metadata": {},
   "outputs": [
    {
     "name": "stdout",
     "output_type": "stream",
     "text": [
      "dict_keys(['name', 'age', 'address'])\n",
      "dict_values(['Aditya', 33, 'India'])\n"
     ]
    }
   ],
   "source": [
    "keys = student.keys()\n",
    "print(keys)\n",
    "values = student.values()\n",
    "print(values) "
   ]
  },
  {
   "cell_type": "code",
   "execution_count": 24,
   "metadata": {},
   "outputs": [
    {
     "name": "stdout",
     "output_type": "stream",
     "text": [
      "dict_items([('name', 'Aditya'), ('age', 33), ('address', 'India')])\n"
     ]
    }
   ],
   "source": [
    "items=student.items()\n",
    "print(items)"
   ]
  },
  {
   "cell_type": "markdown",
   "metadata": {},
   "source": [
    "#### Shallow Copy"
   ]
  },
  {
   "cell_type": "code",
   "execution_count": 25,
   "metadata": {},
   "outputs": [
    {
     "name": "stdout",
     "output_type": "stream",
     "text": [
      "{'name': 'Aditya', 'age': 33, 'address': 'India'}\n",
      "{'name': 'Aditya', 'age': 33, 'address': 'India'}\n"
     ]
    }
   ],
   "source": [
    "\n",
    "student_copy = student\n",
    "print(student)\n",
    "print(student_copy)\n"
   ]
  },
  {
   "cell_type": "code",
   "execution_count": 26,
   "metadata": {},
   "outputs": [
    {
     "name": "stdout",
     "output_type": "stream",
     "text": [
      "{'name': 'krishna', 'age': 33, 'address': 'India'}\n",
      "{'name': 'krishna', 'age': 33, 'address': 'India'}\n"
     ]
    }
   ],
   "source": [
    "student[\"name\"] = \"krishna\"\n",
    "print(student)\n",
    "print(student_copy)"
   ]
  },
  {
   "cell_type": "code",
   "execution_count": 27,
   "metadata": {},
   "outputs": [
    {
     "name": "stdout",
     "output_type": "stream",
     "text": [
      "{'name': 'krishna', 'age': 33, 'address': 'India'}\n"
     ]
    }
   ],
   "source": [
    "## shallow copy\n",
    "student_cpoy = student.copy() \n",
    "print(student_cpoy)"
   ]
  },
  {
   "cell_type": "code",
   "execution_count": 28,
   "metadata": {},
   "outputs": [
    {
     "name": "stdout",
     "output_type": "stream",
     "text": [
      "{'name': 'krishna', 'age': 33, 'address': 'India'}\n",
      "{'name': 'Aradhya', 'age': 33, 'address': 'India'}\n"
     ]
    }
   ],
   "source": [
    "student[\"name\"] = \"Aradhya\"\n",
    "print(student_cpoy)\n",
    "print(student)"
   ]
  },
  {
   "cell_type": "code",
   "execution_count": 29,
   "metadata": {},
   "outputs": [
    {
     "name": "stdout",
     "output_type": "stream",
     "text": [
      "name\n",
      "age\n",
      "address\n"
     ]
    }
   ],
   "source": [
    "## Iterating over dictionary\n",
    "## use Loops.\n",
    "\n",
    "for keys in student.keys():\n",
    "    print(keys)"
   ]
  },
  {
   "cell_type": "code",
   "execution_count": 30,
   "metadata": {},
   "outputs": [
    {
     "name": "stdout",
     "output_type": "stream",
     "text": [
      "Aradhya\n",
      "33\n",
      "India\n"
     ]
    }
   ],
   "source": [
    "for values in student.values():\n",
    "    print(values)"
   ]
  },
  {
   "cell_type": "code",
   "execution_count": 34,
   "metadata": {},
   "outputs": [
    {
     "name": "stdout",
     "output_type": "stream",
     "text": [
      "key : name    ,   value: Aradhya\n",
      "key : age    ,   value: 33\n",
      "key : address    ,   value: India\n"
     ]
    }
   ],
   "source": [
    "## iterate over key-value pairs.\n",
    "\n",
    "for key,value in student.items():\n",
    "    print(f\"key : {key}    ,   value: {value}\")"
   ]
  },
  {
   "cell_type": "code",
   "execution_count": 35,
   "metadata": {},
   "outputs": [
    {
     "name": "stdout",
     "output_type": "stream",
     "text": [
      "{'student1': {'name': 'Aditya', 'age': 32}, 'student2': {'name': 'Aradhya', 'age': 24}}\n"
     ]
    }
   ],
   "source": [
    "## Nested Dictionary\n",
    "\n",
    "students = {\n",
    "    \"student1\" : {\"name\":\"Aditya\" , \"age\": 32},\n",
    "    \"student2\" : {\"name\":\"Aradhya\",\"age\":24}\n",
    "}\n",
    "print(students)\n"
   ]
  },
  {
   "cell_type": "code",
   "execution_count": 36,
   "metadata": {},
   "outputs": [
    {
     "name": "stdout",
     "output_type": "stream",
     "text": [
      "{'name': 'Aradhya', 'age': 24} ['name']\n"
     ]
    }
   ],
   "source": [
    "print(students['student2'],['name'])"
   ]
  },
  {
   "cell_type": "code",
   "execution_count": 38,
   "metadata": {},
   "outputs": [
    {
     "name": "stdout",
     "output_type": "stream",
     "text": [
      "student1 : {'name': 'Aditya', 'age': 32}\n",
      "name:Aditya\n",
      "age:32\n",
      "student2 : {'name': 'Aradhya', 'age': 24}\n",
      "name:Aradhya\n",
      "age:24\n"
     ]
    }
   ],
   "source": [
    "## iterating over Nested dictionaries.\n",
    "for student_id,student_info in students.items():\n",
    "    print(f\"{student_id} : {student_info}\")\n",
    "    for key,value in student_info.items():\n",
    "        print(f\"{key}:{value}\")"
   ]
  },
  {
   "cell_type": "code",
   "execution_count": 40,
   "metadata": {},
   "outputs": [
    {
     "name": "stdout",
     "output_type": "stream",
     "text": [
      "{0: 0, 1: 1, 2: 4}\n"
     ]
    }
   ],
   "source": [
    "### Dictionary Comprehension\n",
    "\n",
    "squares = {{x}**2:x**2 for x in range(3)}\n",
    "print(squares)"
   ]
  },
  {
   "cell_type": "code",
   "execution_count": null,
   "metadata": {},
   "outputs": [],
   "source": []
  }
 ],
 "metadata": {
  "kernelspec": {
   "display_name": "Python 3",
   "language": "python",
   "name": "python3"
  },
  "language_info": {
   "codemirror_mode": {
    "name": "ipython",
    "version": 3
   },
   "file_extension": ".py",
   "mimetype": "text/x-python",
   "name": "python",
   "nbconvert_exporter": "python",
   "pygments_lexer": "ipython3",
   "version": "3.12.6"
  }
 },
 "nbformat": 4,
 "nbformat_minor": 2
}
