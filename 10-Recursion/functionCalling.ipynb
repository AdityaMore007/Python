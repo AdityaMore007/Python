{
 "cells": [
  {
   "cell_type": "markdown",
   "id": "276efadd",
   "metadata": {},
   "source": [
    "Can a function call itself as well?? \n",
    "--> Yes"
   ]
  },
  {
   "cell_type": "code",
   "execution_count": 3,
   "id": "c299443e",
   "metadata": {},
   "outputs": [
    {
     "name": "stdout",
     "output_type": "stream",
     "text": [
      "5\n",
      "4\n",
      "3\n",
      "2\n",
      "1\n",
      "0\n"
     ]
    }
   ],
   "source": [
    "def printNum(num):\n",
    "    print(num)\n",
    "    if(num==0):\n",
    "        return\n",
    "    printNum(num-1)\n",
    "    \n",
    "# def printFour(num):\n",
    "#     print(num)\n",
    "#     printThree(num-1)\n",
    "    \n",
    "# def printThree(num):\n",
    "#     print(num)\n",
    "#     printTwo(num-1)\n",
    "    \n",
    "# def printTwo(num):\n",
    "#     print(num)\n",
    "#     printOne(num-1)\n",
    "    \n",
    "# def printOne(num):\n",
    "#     print(num)\n",
    "    \n",
    "    \n",
    "printNum(5)\n",
    "    "
   ]
  },
  {
   "cell_type": "markdown",
   "id": "1b8854bb",
   "metadata": {},
   "source": [
    "1. Functions wait in the memory till they are rsolevd.\n",
    "2. When a function finishes execution, then only it comes out of program and gets deleted from our stack."
   ]
  },
  {
   "cell_type": "markdown",
   "id": "2849b7a7",
   "metadata": {},
   "source": [
    "### Recursion is function calling itself."
   ]
  },
  {
   "cell_type": "code",
   "execution_count": null,
   "id": "383a3448",
   "metadata": {},
   "outputs": [],
   "source": []
  }
 ],
 "metadata": {
  "kernelspec": {
   "display_name": "Python 3",
   "language": "python",
   "name": "python3"
  },
  "language_info": {
   "codemirror_mode": {
    "name": "ipython",
    "version": 3
   },
   "file_extension": ".py",
   "mimetype": "text/x-python",
   "name": "python",
   "nbconvert_exporter": "python",
   "pygments_lexer": "ipython3",
   "version": "3.12.6"
  }
 },
 "nbformat": 4,
 "nbformat_minor": 5
}
