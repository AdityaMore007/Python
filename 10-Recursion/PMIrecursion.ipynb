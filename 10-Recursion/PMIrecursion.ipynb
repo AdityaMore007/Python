{
 "cells": [
  {
   "cell_type": "code",
   "execution_count": null,
   "id": "1c900fa5",
   "metadata": {},
   "outputs": [
    {
     "data": {
      "text/plain": [
       "32"
      ]
     },
     "execution_count": 1,
     "metadata": {},
     "output_type": "execute_result"
    }
   ],
   "source": [
    "def power2(n):\n",
    "    if n==1: # base case\n",
    "        return 2\n",
    "    \n",
    "    else:\n",
    "        smallAnswer=power2(n-1) # Assume (2) --> Induction Hypothesis\n",
    "        ans=2*smallAnswer # (3) using (2)\n",
    "        return ans\n",
    "    \n",
    "power2(5)"
   ]
  },
  {
   "cell_type": "markdown",
   "id": "912f98e7",
   "metadata": {},
   "source": [
    "write a progrsm to find sum of all natural numbers upto a given numbers(n)."
   ]
  },
  {
   "cell_type": "code",
   "execution_count": 10,
   "id": "3cececdf",
   "metadata": {},
   "outputs": [
    {
     "data": {
      "text/plain": [
       "0"
      ]
     },
     "execution_count": 10,
     "metadata": {},
     "output_type": "execute_result"
    }
   ],
   "source": [
    "import sys\n",
    "sys.setrecursionlimit(20000)\n",
    "\n",
    "def sumOfNumbersTillN(n):\n",
    "    if n==1:\n",
    "        return 1\n",
    "    \n",
    "    elif n==0:\n",
    "        return 0\n",
    "    \n",
    "    else:\n",
    "        return n + sumOfNumbersTillN(n-1)\n",
    "    \n",
    "sumOfNumbersTillN(0)"
   ]
  },
  {
   "cell_type": "markdown",
   "id": "a95959cb",
   "metadata": {},
   "source": [
    "write a program to find no. of Digits in a Number"
   ]
  },
  {
   "cell_type": "code",
   "execution_count": null,
   "id": "40f6f599",
   "metadata": {},
   "outputs": [
    {
     "name": "stdout",
     "output_type": "stream",
     "text": [
      "3\n"
     ]
    }
   ],
   "source": [
    "def number_of_digits(n):\n",
    "    if(n>=1 and n<=9):\n",
    "        return 1\n",
    "    elif n==0:\n",
    "        return 1\n",
    "    \n",
    "    smallNumber=int(n/10)\n",
    "    smallAnswer=number_of_digits(smallNumber)\n",
    "    ans=1+smallAnswer\n",
    "        \n",
    "    return ans\n",
    "    \n",
    "print(number_of_digits(213))"
   ]
  },
  {
   "cell_type": "markdown",
   "id": "61e7f476",
   "metadata": {},
   "source": [
    "Fibonacci Series"
   ]
  },
  {
   "cell_type": "code",
   "execution_count": 15,
   "id": "993d4a6d",
   "metadata": {},
   "outputs": [
    {
     "name": "stdout",
     "output_type": "stream",
     "text": [
      "3\n"
     ]
    }
   ],
   "source": [
    "def fibonacci(n):\n",
    "    if (n==0):\n",
    "        return 0\n",
    "    elif n==1:\n",
    "        return 1\n",
    "    \n",
    "    last=fibonacci(n-1)\n",
    "    secondLast=fibonacci(n-2)\n",
    "    \n",
    "    ans=last+secondLast\n",
    "    \n",
    "    return ans\n",
    "print(fibonacci(4))"
   ]
  },
  {
   "cell_type": "markdown",
   "id": "79ea598b",
   "metadata": {},
   "source": [
    "### Head v/s Tail recursion"
   ]
  },
  {
   "cell_type": "markdown",
   "id": "4a7111c7",
   "metadata": {},
   "source": [
    "1. Head Recursion"
   ]
  },
  {
   "cell_type": "code",
   "execution_count": 16,
   "id": "1a437917",
   "metadata": {},
   "outputs": [
    {
     "name": "stdout",
     "output_type": "stream",
     "text": [
      "120\n"
     ]
    }
   ],
   "source": [
    "def factHead(n):\n",
    "    if n==0:\n",
    "        return 1\n",
    "    smallAnswer=factHead(n-1)\n",
    "    finalAnswer=n*smallAnswer\n",
    "    return finalAnswer\n",
    "\n",
    "print(factHead(5))"
   ]
  },
  {
   "cell_type": "markdown",
   "id": "8f071319",
   "metadata": {},
   "source": [
    "2. Tail Recursion (Important Method)"
   ]
  },
  {
   "cell_type": "code",
   "execution_count": 17,
   "id": "e8c104f0",
   "metadata": {},
   "outputs": [
    {
     "name": "stdout",
     "output_type": "stream",
     "text": [
      "120\n"
     ]
    }
   ],
   "source": [
    "def tailHead(n,accumulator=1):\n",
    "    if n==0:\n",
    "        return accumulator\n",
    "    \n",
    "    accumulator=accumulator*n\n",
    "    return tailHead(n-1,accumulator)\n",
    "\n",
    "print(tailHead(5))"
   ]
  },
  {
   "cell_type": "markdown",
   "id": "a76e6425",
   "metadata": {},
   "source": [
    "Print Nummber from 1 to N using recursion (importnat method)"
   ]
  },
  {
   "cell_type": "code",
   "execution_count": 1,
   "id": "3394992c",
   "metadata": {},
   "outputs": [
    {
     "name": "stdout",
     "output_type": "stream",
     "text": [
      "1\n",
      "2\n",
      "3\n",
      "4\n",
      "5\n"
     ]
    }
   ],
   "source": [
    "def print1toN(n):\n",
    "    if n<=0:\n",
    "        return \n",
    "    \n",
    "    print1toN(n-1)\n",
    "    \n",
    "    print(n)\n",
    "    \n",
    "print1toN(5)"
   ]
  },
  {
   "cell_type": "markdown",
   "id": "7024c6a7",
   "metadata": {},
   "source": [
    "### Summary: (above Question)\n",
    "1. The function keeps calling itself with n-1 until it reaches 0.\n",
    "2. Then, on the way back (as each call finishes), it prints the value of n.\n",
    "3. That’s why it prints numbers from 1 to N in order."
   ]
  },
  {
   "cell_type": "code",
   "execution_count": 10,
   "id": "c87bca3f",
   "metadata": {},
   "outputs": [
    {
     "name": "stdout",
     "output_type": "stream",
     "text": [
      "1\n",
      "2\n",
      "3\n",
      "4\n",
      "5\n"
     ]
    }
   ],
   "source": [
    "def count_to_n(n):\n",
    "    \n",
    "    \n",
    "    if n<=0:\n",
    "        return \n",
    "    \n",
    "    count_to_n(n-1) # recursion Call- Head\n",
    "    \n",
    "    print(n)\n",
    "    \n",
    "count_to_n(5)\n"
   ]
  },
  {
   "cell_type": "markdown",
   "id": "66ce3373",
   "metadata": {},
   "source": [
    "2nd method"
   ]
  },
  {
   "cell_type": "code",
   "execution_count": 4,
   "id": "e21f2b39",
   "metadata": {},
   "outputs": [
    {
     "name": "stdout",
     "output_type": "stream",
     "text": [
      "1\n",
      "2\n",
      "3\n",
      "4\n",
      "5\n"
     ]
    }
   ],
   "source": [
    "def print1toN_tail(n, current=1):\n",
    "    if current > n:\n",
    "        return\n",
    "    print(current)\n",
    "    print1toN_tail(n, current + 1)\n",
    "\n",
    "print1toN_tail(5)"
   ]
  },
  {
   "cell_type": "markdown",
   "id": "275f1c62",
   "metadata": {},
   "source": [
    "print N to 1"
   ]
  },
  {
   "cell_type": "code",
   "execution_count": 11,
   "id": "31b6c2ab",
   "metadata": {},
   "outputs": [
    {
     "name": "stdout",
     "output_type": "stream",
     "text": [
      "5\n",
      "4\n",
      "3\n",
      "2\n",
      "1\n"
     ]
    }
   ],
   "source": [
    "def printNto1(n):\n",
    "    if n<=0:\n",
    "        return \n",
    "    \n",
    "    print(n)\n",
    "    printNto1(n-1) # Tail Recursion\n",
    "    \n",
    "    \n",
    "printNto1(5)\n",
    "    \n",
    "    "
   ]
  },
  {
   "cell_type": "code",
   "execution_count": null,
   "id": "c8c1af10",
   "metadata": {},
   "outputs": [],
   "source": []
  }
 ],
 "metadata": {
  "kernelspec": {
   "display_name": "Python 3",
   "language": "python",
   "name": "python3"
  },
  "language_info": {
   "codemirror_mode": {
    "name": "ipython",
    "version": 3
   },
   "file_extension": ".py",
   "mimetype": "text/x-python",
   "name": "python",
   "nbconvert_exporter": "python",
   "pygments_lexer": "ipython3",
   "version": "3.12.6"
  }
 },
 "nbformat": 4,
 "nbformat_minor": 5
}
