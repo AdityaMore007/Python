{
 "cells": [
  {
   "cell_type": "markdown",
   "metadata": {},
   "source": [
    "#### exmaple1: square pattern of '*' of side n as list of strings."
   ]
  },
  {
   "cell_type": "code",
   "execution_count": 2,
   "metadata": {},
   "outputs": [
    {
     "data": {
      "text/plain": [
       "['*****', '*****', '*****', '*****', '*****']"
      ]
     },
     "execution_count": 2,
     "metadata": {},
     "output_type": "execute_result"
    }
   ],
   "source": [
    "def generate_pattern(n):\n",
    "    pattern = []\n",
    "    for i in range(n):\n",
    "        pattern.append('*' * n)\n",
    "    return pattern\n",
    "\n",
    "generate_pattern(5)"
   ]
  },
  {
   "cell_type": "markdown",
   "metadata": {},
   "source": [
    "### Right Angled Triangle\n",
    "Problem Description:\n",
    "\n",
    "You are given an integer n. Your task is to return a right-angled triangle pattern of '*' where each side has n characters, represented as a list of strings. The triangle has '*' characters, starting with 1 star in the first row, 2 stars in the second row, and so on until the last row has n stars.\n",
    "\n"
   ]
  },
  {
   "cell_type": "code",
   "execution_count": 4,
   "metadata": {},
   "outputs": [
    {
     "data": {
      "text/plain": [
       "['*', '**', '***', '****', '*****']"
      ]
     },
     "execution_count": 4,
     "metadata": {},
     "output_type": "execute_result"
    }
   ],
   "source": [
    "def generate_triangle(n):\n",
    "    \n",
    "    pattern = []\n",
    "    \n",
    "    for i in range(1,n+1):\n",
    "        pattern.append('*' * i)\n",
    "        \n",
    "    return pattern\n",
    "\n",
    "generate_triangle(5)"
   ]
  },
  {
   "cell_type": "markdown",
   "metadata": {},
   "source": [
    "### Inverted Right Angled Triangle\n",
    "Problem Description:\n",
    "\n",
    "You are given an integer n. Your task is to return an inverted right-angled triangle pattern of '*' where each side has n characters, represented as a list of strings. The first row should have n stars, the second row n-1 stars, and so on, until the last row has 1 star."
   ]
  },
  {
   "cell_type": "code",
   "execution_count": 2,
   "metadata": {},
   "outputs": [
    {
     "data": {
      "text/plain": [
       "['***', '**', '*']"
      ]
     },
     "execution_count": 2,
     "metadata": {},
     "output_type": "execute_result"
    }
   ],
   "source": [
    "def generate_triangle(n):\n",
    "    # [ '***' , '**' , '*' ] for n=3\n",
    "    pattern = []\n",
    "    for i in range(n,0,-1):\n",
    "        pattern.append('*' * i) \n",
    "        # pattern.reverse()       \n",
    "    return pattern\n",
    "\n",
    "generate_triangle(3)\n"
   ]
  },
  {
   "cell_type": "markdown",
   "metadata": {},
   "source": [
    "### Pyramid Pattern\n",
    "Problem Description:\n",
    "\n",
    "You are given an integer n. Your task is to return a pyramid pattern of '*' where each side has n rows, represented as a list of strings. The pyramid is centered, with 1 star in the first row, 3 stars in the second row, and so on, increasing by 2 stars per row until the base row has 2n - 1 stars."
   ]
  },
  {
   "cell_type": "code",
   "execution_count": 23,
   "metadata": {},
   "outputs": [
    {
     "data": {
      "text/plain": [
       "['*', '***', '*****', '*******', '*********']"
      ]
     },
     "execution_count": 23,
     "metadata": {},
     "output_type": "execute_result"
    }
   ],
   "source": [
    "def generate_pyramid(n):\n",
    "    # [ '*' , '***' , '*****' ]\n",
    "    pattern = []\n",
    "    \n",
    "    for i in range(n+1):\n",
    "        odd = 2 * i - 1\n",
    "        if (odd < 0):\n",
    "            pass\n",
    "        else:\n",
    "            pattern.append('*' * odd)\n",
    "        \n",
    "    return pattern\n",
    "generate_pyramid(5)"
   ]
  },
  {
   "cell_type": "code",
   "execution_count": 34,
   "metadata": {},
   "outputs": [
    {
     "data": {
      "text/plain": [
       "['  *  ', ' *** ', '*****']"
      ]
     },
     "execution_count": 34,
     "metadata": {},
     "output_type": "execute_result"
    }
   ],
   "source": [
    "def gen_pyramid(n):\n",
    "    pattern = []\n",
    "    \n",
    "    for i in range(1,n+1):\n",
    "        \n",
    "        \n",
    "        spaces = ' ' * (n-i)\n",
    "        patt = '*' * (2 * i - 1)  \n",
    "        pattern.append(spaces+patt+spaces)\n",
    "    return pattern\n",
    "gen_pyramid(3)"
   ]
  },
  {
   "cell_type": "markdown",
   "metadata": {},
   "source": [
    "### Functions Problems\n"
   ]
  },
  {
   "cell_type": "markdown",
   "metadata": {},
   "source": [
    "##### Celsius to Farenheit"
   ]
  },
  {
   "cell_type": "code",
   "execution_count": 1,
   "metadata": {},
   "outputs": [
    {
     "data": {
      "text/plain": [
       "89.6"
      ]
     },
     "execution_count": 1,
     "metadata": {},
     "output_type": "execute_result"
    }
   ],
   "source": [
    "def celsius_to_fahrenheit(C):\n",
    "    temp = (9/5 * C) + 32\n",
    "     \n",
    "    return temp\n",
    "celsius_to_fahrenheit(32)"
   ]
  },
  {
   "cell_type": "markdown",
   "metadata": {},
   "source": [
    "##### Area of Rectangle"
   ]
  },
  {
   "cell_type": "code",
   "execution_count": 13,
   "metadata": {},
   "outputs": [
    {
     "name": "stdout",
     "output_type": "stream",
     "text": [
      "None\n"
     ]
    }
   ],
   "source": [
    "\n",
    "\n",
    "def Area(l,b):\n",
    "    if (l>b or b>l):\n",
    "        area_rectangle = (l * b)\n",
    "        return area_rectangle\n",
    "    else:\n",
    "        return None\n",
    "\n",
    "\n",
    "print(Area(10,10))"
   ]
  },
  {
   "cell_type": "markdown",
   "metadata": {},
   "source": [
    "#### Number of Rounds of Lift\n",
    "Problem Description:\n",
    "\n",
    "You are given n, the total number of people, and capacity, the maximum number of people the lift can carry at a time. All people want to go from the ground floor to the top floor. Your task is to calculate the number of rounds the lift has to make to transport all the people to the top floor.\n",
    "\n"
   ]
  },
  {
   "cell_type": "code",
   "execution_count": 16,
   "metadata": {},
   "outputs": [
    {
     "data": {
      "text/plain": [
       "5"
      ]
     },
     "execution_count": 16,
     "metadata": {},
     "output_type": "execute_result"
    }
   ],
   "source": [
    "def lift_rounds(n,capacity):\n",
    "    \n",
    "    comp = (n/capacity)\n",
    "    return round(comp) + 1\n",
    "            \n",
    "            \n",
    "lift_rounds(13,3)\n",
    "            \n",
    "            \n",
    "     "
   ]
  },
  {
   "cell_type": "markdown",
   "metadata": {},
   "source": [
    "##### \n",
    "Line Equation\n",
    "Problem Description:\n",
    "\n",
    "You are given the slope m and the y-intercept b of a line, along with a value x. Your task is to calculate and return the value of y using the equation of a line in slope-intercept form:"
   ]
  },
  {
   "cell_type": "code",
   "execution_count": 17,
   "metadata": {},
   "outputs": [
    {
     "data": {
      "text/plain": [
       "11"
      ]
     },
     "execution_count": 17,
     "metadata": {},
     "output_type": "execute_result"
    }
   ],
   "source": [
    "def calculate_y(slope, intercept, x):\n",
    "    y = slope * x + intercept\n",
    "    return y\n",
    "\n",
    "calculate_y(2,3,4)"
   ]
  },
  {
   "cell_type": "markdown",
   "metadata": {},
   "source": [
    "#### \n",
    "Sum of List Elements\n",
    "Problem Description\n",
    "\n",
    "Sum of List Elements\n",
    "\n",
    "Write a Python function that calculates the sum of all elements in a given list of integers."
   ]
  },
  {
   "cell_type": "code",
   "execution_count": 9,
   "metadata": {},
   "outputs": [
    {
     "data": {
      "text/plain": [
       "10"
      ]
     },
     "execution_count": 9,
     "metadata": {},
     "output_type": "execute_result"
    }
   ],
   "source": [
    "method:1\n",
    "\n",
    "# def sum_list(numbers):\n",
    "#     add = (sum(numbers))\n",
    "#     return add\n",
    "\n",
    "# sum_list([1,2,3,4,5,6])\n",
    "\n",
    "# method 2:\n",
    "    \n",
    "def sumi(numbers):\n",
    "    sum = 0\n",
    "    \n",
    "    for i in numbers:\n",
    "        sum += i\n",
    "        \n",
    "    return sum\n",
    "\n",
    "sumi([1,2,3,4])\n",
    "        \n"
   ]
  },
  {
   "cell_type": "markdown",
   "metadata": {},
   "source": [
    "#### \n",
    "Largest Element in a List:\n",
    "Find the Largest Element in a List\n",
    "\n",
    "Write a Python function that finds and returns the largest element in a given list of integers."
   ]
  },
  {
   "cell_type": "code",
   "execution_count": 1,
   "metadata": {},
   "outputs": [
    {
     "data": {
      "text/plain": [
       "20"
      ]
     },
     "execution_count": 1,
     "metadata": {},
     "output_type": "execute_result"
    }
   ],
   "source": [
    "# method:1\n",
    "# def find_largest(numbers):\n",
    "#     maximum = max(numbers)\n",
    "#     return maximum\n",
    "\n",
    "# find_largest([1,2,5,4,8,10])\n",
    "\n",
    "#method:2\n",
    "def largest(numbers):\n",
    "    if not numbers:\n",
    "        return None\n",
    "    \n",
    "    largest = numbers[0]\n",
    "    \n",
    "    for i in numbers[1:]:\n",
    "        if i > largest:\n",
    "            largest = i\n",
    "    return largest\n",
    "\n",
    "largest([1,2,3,5,6,9,7,12,15,20])\n",
    "    "
   ]
  },
  {
   "cell_type": "markdown",
   "metadata": {},
   "source": [
    "#### \n",
    "Remove Duplicate in a List:\n",
    "Remove Duplicates from a List\n",
    "\n",
    "You are given a list of integers. Write a Python program that removes any duplicate elements from the list and returns a new list with only unique elements. The order of elements in the list should be maintained."
   ]
  },
  {
   "cell_type": "code",
   "execution_count": 6,
   "metadata": {},
   "outputs": [
    {
     "data": {
      "text/plain": [
       "[1, 2, 3, 6, 4, 5]"
      ]
     },
     "execution_count": 6,
     "metadata": {},
     "output_type": "execute_result"
    }
   ],
   "source": [
    "def remove_dup(lst):\n",
    "    unique_list = []\n",
    "    for item in lst:\n",
    "        if item not in unique_list:\n",
    "            unique_list.append(item)\n",
    "    return unique_list\n",
    "remove_dup([1,2,3,2,6,2,4,5,6])\n"
   ]
  },
  {
   "cell_type": "code",
   "execution_count": 45,
   "metadata": {},
   "outputs": [
    {
     "data": {
      "text/plain": [
       "True"
      ]
     },
     "execution_count": 45,
     "metadata": {},
     "output_type": "execute_result"
    }
   ],
   "source": [
    "def remove_dict(ls):\n",
    "    seen = []\n",
    "    for num in ls:\n",
    "        if num in seen:\n",
    "            return False\n",
    "        seen.append(num)\n",
    "        \n",
    "    return True\n",
    "\n",
    "remove_dict([1,2,3,4,5,6])\n",
    "            "
   ]
  },
  {
   "cell_type": "markdown",
   "metadata": {},
   "source": [
    "#### \n",
    "Program to Reverse a List:\n",
    "Reverse a List (Non-Slicing Approach)\n",
    "\n",
    "You are given a list of integers. Write a Python program that reverses the list without using slicing (lst[::-1]). The program should return the reversed list."
   ]
  },
  {
   "cell_type": "code",
   "execution_count": 46,
   "metadata": {},
   "outputs": [
    {
     "data": {
      "text/plain": [
       "[5, 4, 3, 2, 1]"
      ]
     },
     "execution_count": 46,
     "metadata": {},
     "output_type": "execute_result"
    }
   ],
   "source": [
    "# def rev(lst):\n",
    "#     lst.reverse()\n",
    "#     return lst\n",
    "\n",
    "# rev([1,2,3,4,5])"
   ]
  },
  {
   "cell_type": "code",
   "execution_count": 19,
   "metadata": {},
   "outputs": [
    {
     "ename": "TypeError",
     "evalue": "'builtin_function_or_method' object is not subscriptable",
     "output_type": "error",
     "traceback": [
      "\u001b[1;31m---------------------------------------------------------------------------\u001b[0m",
      "\u001b[1;31mTypeError\u001b[0m                                 Traceback (most recent call last)",
      "Cell \u001b[1;32mIn[19], line 12\u001b[0m\n\u001b[0;32m      9\u001b[0m         end \u001b[38;5;241m=\u001b[39m end \u001b[38;5;241m+\u001b[39m \u001b[38;5;241m1\u001b[39m\n\u001b[0;32m     10\u001b[0m     \u001b[38;5;28;01mreturn\u001b[39;00m lst\n\u001b[1;32m---> 12\u001b[0m \u001b[43mrev\u001b[49m\u001b[43m(\u001b[49m\u001b[43m[\u001b[49m\u001b[38;5;241;43m1\u001b[39;49m\u001b[43m,\u001b[49m\u001b[38;5;241;43m2\u001b[39;49m\u001b[43m,\u001b[49m\u001b[38;5;241;43m3\u001b[39;49m\u001b[43m,\u001b[49m\u001b[38;5;241;43m4\u001b[39;49m\u001b[43m,\u001b[49m\u001b[38;5;241;43m5\u001b[39;49m\u001b[43m]\u001b[49m\u001b[43m)\u001b[49m\n",
      "Cell \u001b[1;32mIn[19], line 6\u001b[0m, in \u001b[0;36mrev\u001b[1;34m(lst)\u001b[0m\n\u001b[0;32m      3\u001b[0m end \u001b[38;5;241m=\u001b[39m \u001b[38;5;28mlen\u001b[39m(lst) \u001b[38;5;241m-\u001b[39m \u001b[38;5;241m1\u001b[39m\n\u001b[0;32m      5\u001b[0m \u001b[38;5;28;01mwhile\u001b[39;00m start \u001b[38;5;241m<\u001b[39m end:\n\u001b[1;32m----> 6\u001b[0m     \u001b[38;5;28mlen\u001b[39m[start], \u001b[38;5;28mlen\u001b[39m[end] \u001b[38;5;241m=\u001b[39m \u001b[38;5;28;43mlen\u001b[39;49m\u001b[43m[\u001b[49m\u001b[43mend\u001b[49m\u001b[43m]\u001b[49m, \u001b[38;5;28mlen\u001b[39m[start]\n\u001b[0;32m      8\u001b[0m     start \u001b[38;5;241m=\u001b[39m start \u001b[38;5;241m+\u001b[39m \u001b[38;5;241m1\u001b[39m\n\u001b[0;32m      9\u001b[0m     end \u001b[38;5;241m=\u001b[39m end \u001b[38;5;241m+\u001b[39m \u001b[38;5;241m1\u001b[39m\n",
      "\u001b[1;31mTypeError\u001b[0m: 'builtin_function_or_method' object is not subscriptable"
     ]
    }
   ],
   "source": [
    "def rev(lst):\n",
    "    start = 0\n",
    "    end = len(lst) - 1\n",
    "    \n",
    "    while start < end:\n",
    "        len[start], len[end] = len[end], len[start]\n",
    "        \n",
    "        start = start + 1\n",
    "        end = end + 1\n",
    "    return lst\n",
    "        \n",
    "rev([1,2,3,4,5])\n",
    "    "
   ]
  },
  {
   "cell_type": "markdown",
   "metadata": {},
   "source": [
    "#### Count Number of Odd and Even Elements in a List:\n",
    "Count Even and Odd Numbers in a List\n",
    "\n",
    "You are given a list of integers. Write a Python program that counts and returns the number of even and odd numbers in the list."
   ]
  },
  {
   "cell_type": "code",
   "execution_count": 32,
   "metadata": {},
   "outputs": [
    {
     "data": {
      "text/plain": [
       "(2, 3)"
      ]
     },
     "execution_count": 32,
     "metadata": {},
     "output_type": "execute_result"
    }
   ],
   "source": [
    "def count(lst):\n",
    "    \n",
    "    even_count= 0\n",
    "    odd_count = 0\n",
    "    for num in lst:\n",
    "        if num%2==0:\n",
    "            even_count +=1  \n",
    "        else:\n",
    "            odd_count +=1\n",
    "            \n",
    "    return even_count,odd_count\n",
    "    \n",
    "count([1,2,3,4,5])"
   ]
  },
  {
   "cell_type": "markdown",
   "metadata": {},
   "source": [
    "#### Find Maximum Difference Between Two Consecutive Elements (Brute Force Approach)\n",
    "\n",
    "You are given a list of integers. Write a Python program to find the maximum difference between two consecutive elements in the list using a brute-force approach. The difference is defined as the absolute value of the difference between two consecutive elements."
   ]
  },
  {
   "cell_type": "code",
   "execution_count": 81,
   "metadata": {},
   "outputs": [
    {
     "data": {
      "text/plain": [
       "7"
      ]
     },
     "execution_count": 81,
     "metadata": {},
     "output_type": "execute_result"
    }
   ],
   "source": [
    "def difference(lst):\n",
    "    # max_diff = 0\n",
    "    set = []\n",
    "    for i in range(0,len(lst)):\n",
    "        set1 = abs(lst[i] - lst[i-1])\n",
    "        set.append(set1)\n",
    "        # if set > max_diff:\n",
    "        #     max_diff = set\n",
    "    return max(set)\n",
    "\n",
    "difference([1,7,3,10,5])"
   ]
  },
  {
   "cell_type": "markdown",
   "metadata": {},
   "source": [
    "#### \n",
    "Merge two Sorted List:\n",
    "Merge Two Sorted Lists\n",
    "\n",
    "You are given two sorted lists of integers. Write a Python function to merge these two sorted lists into one sorted list. The resulting list should also be in non-decreasing order."
   ]
  },
  {
   "cell_type": "code",
   "execution_count": 1,
   "metadata": {},
   "outputs": [
    {
     "data": {
      "text/plain": [
       "[1, 2, 3, 4, 5, 6]"
      ]
     },
     "execution_count": 1,
     "metadata": {},
     "output_type": "execute_result"
    }
   ],
   "source": [
    "def merge_two_sorted_lists(list1, list2):\n",
    "    return list1+list2\n",
    "\n",
    "merge_two_sorted_lists([1,2,3],[4,5,6])"
   ]
  },
  {
   "cell_type": "code",
   "execution_count": 7,
   "metadata": {},
   "outputs": [
    {
     "data": {
      "text/plain": [
       "[1, 2, 3, 4, 5, 6]"
      ]
     },
     "execution_count": 7,
     "metadata": {},
     "output_type": "execute_result"
    }
   ],
   "source": [
    "def merge_two_sorted_lists(list1, list2):\n",
    "    # Initialize pointers for both lists\n",
    "    i, j = 0, 0\n",
    "    result = []  # Initialize an empty list to store the merged result\n",
    " \n",
    "    # Traverse both lists and merge them in sorted order\n",
    "    while i < len(list1) and j < len(list2):\n",
    "        if list1[i] < list2[j]:\n",
    "            result.append(list1[i])  # Add the smaller element to the result list\n",
    "            i += 1\n",
    "        else:\n",
    "            result.append(list2[j])  # Add the smaller element to the result list\n",
    "            j += 1\n",
    " \n",
    "    # If there are remaining elements in list1, add them to the result\n",
    "    while i < len(list1):\n",
    "        result.append(list1[i])\n",
    "        i += 1\n",
    " \n",
    "    # If there are remaining elements in list2, add them to the result\n",
    "    while j < len(list2):\n",
    "        result.append(list2[j])\n",
    "        j += 1\n",
    " \n",
    "    return result  # Return the merged sorted list\n",
    "\n",
    "merge_two_sorted_lists([1,2,3],[4,5,6])"
   ]
  },
  {
   "cell_type": "markdown",
   "metadata": {},
   "source": [
    "#### Very Important\n",
    "Rotate a List :\n",
    "Rotate a List (Without Slicing)\n",
    "\n",
    "You are given a list of integers and an integer k. Write a Python function to rotate the list to the right by k positions without using slicing. A rotation shifts elements from the end of the list to the front."
   ]
  },
  {
   "cell_type": "code",
   "execution_count": 26,
   "metadata": {},
   "outputs": [
    {
     "data": {
      "text/plain": [
       "[40, 50, 10, 20, 30]"
      ]
     },
     "execution_count": 26,
     "metadata": {},
     "output_type": "execute_result"
    }
   ],
   "source": [
    "def rotate_list(lst, k):\n",
    "    k = k % len(lst)\n",
    "    \n",
    "    if not lst:\n",
    "        return []\n",
    "    \n",
    "    for i in range(k):\n",
    "        last_element = lst.pop()\n",
    "        lst.insert(0,last_element)\n",
    "            \n",
    "            \n",
    "    return lst\n",
    "rotate_list([10,20,30,40,50],2)"
   ]
  },
  {
   "cell_type": "code",
   "execution_count": 24,
   "metadata": {},
   "outputs": [
    {
     "data": {
      "text/plain": [
       "[3, 4, 5, 1, 2]"
      ]
     },
     "execution_count": 24,
     "metadata": {},
     "output_type": "execute_result"
    }
   ],
   "source": [
    "def solution(ls,f):\n",
    "    f = f%len(ls)\n",
    "    \n",
    "    l,r = 0,len(ls)-1\n",
    "    while l < r:\n",
    "        ls[l] , ls[r] = ls[r] , ls[l]\n",
    "        l,r = l+1,r-1\n",
    "    l,r = 0,f-1\n",
    "    while l < r:\n",
    "        ls[l] , ls[r] = ls[r] , ls[l]\n",
    "        l,r = l+1,r-1\n",
    "    l,r = f,len(ls)-1\n",
    "    while l < r:\n",
    "        ls[l] , ls[r] = ls[r] , ls[l]\n",
    "        l,r = l+1,r-1\n",
    "    \n",
    "    return ls\n",
    "        \n",
    "solution([1,2,3,4,5],3)"
   ]
  },
  {
   "cell_type": "markdown",
   "metadata": {},
   "source": [
    "#### Merge 2 List into Dictionary:\n",
    "\n",
    "Merge Lists to Dictionary\n",
    "\n",
    "Design a Python function named merge_lists_to_dictionary to merge two lists into a dictionary where elements from the first list act as keys and elements from the second list act as values"
   ]
  },
  {
   "cell_type": "code",
   "execution_count": 30,
   "metadata": {},
   "outputs": [
    {
     "data": {
      "text/plain": [
       "{'x': 10, 'y': 20, 'z': 30}"
      ]
     },
     "execution_count": 30,
     "metadata": {},
     "output_type": "execute_result"
    }
   ],
   "source": [
    "def merge_lists_to_dictionary(keys, values):\n",
    "    \n",
    "    return dict(zip(keys,values))\n",
    "    \n",
    "merge_lists_to_dictionary(['x','y','z'],[10,20,30])\n",
    "        \n",
    "        \n",
    "                \n"
   ]
  },
  {
   "cell_type": "code",
   "execution_count": 37,
   "metadata": {},
   "outputs": [
    {
     "data": {
      "text/plain": [
       "{'a': 1, 'b': 2, 'c': 3, 'd': 4, 'e': 5, 'f': 6}"
      ]
     },
     "execution_count": 37,
     "metadata": {},
     "output_type": "execute_result"
    }
   ],
   "source": [
    "def merge_three_dictionaries(dict1, dict2, dict3):\n",
    "    \n",
    "    \n",
    "    return {**dict1,**dict2,**dict3}\n",
    "    \n",
    "merge_three_dictionaries({'a': 1, 'b': 2}, {'c': 3, 'd': 4}, {'e': 5, 'f': 6})"
   ]
  },
  {
   "cell_type": "markdown",
   "metadata": {},
   "source": [
    "#### Words Frequency in a Sentence:\n",
    "Count Word Frequency\n",
    "\n",
    "Design a Python function named count_word_frequency to count the frequency of words in a sentence and store the counts in a dictionary"
   ]
  },
  {
   "cell_type": "code",
   "execution_count": 53,
   "metadata": {},
   "outputs": [
    {
     "data": {
      "text/plain": [
       "{'hello': 2, 'me': 1, 'Aditya': 1}"
      ]
     },
     "execution_count": 53,
     "metadata": {},
     "output_type": "execute_result"
    }
   ],
   "source": [
    "def count_words(sentence):\n",
    "    freq = {}\n",
    "    words = sentence.split()\n",
    "    for word in words:\n",
    "        if word in freq:\n",
    "            freq[word]+=1\n",
    "        else:\n",
    "            freq[word] = 1\n",
    "        \n",
    "    return freq   \n",
    "count_words(\"hello hello me Aditya\")"
   ]
  },
  {
   "cell_type": "code",
   "execution_count": 54,
   "metadata": {},
   "outputs": [
    {
     "name": "stdout",
     "output_type": "stream",
     "text": [
      "['hello', 'hello', 'me', 'Aditya']\n"
     ]
    }
   ],
   "source": [
    "lst = (\"hello hello me Aditya\")\n",
    "ls = lst.split()\n",
    "\n",
    "print(ls)"
   ]
  },
  {
   "cell_type": "markdown",
   "metadata": {},
   "source": [
    "#### Palindromic Tuple:\n",
    "Check if Tuple is Palindromic\n",
    "\n",
    "Design a Python function named is_palindromic_tuple to check if a tuple is palindromic, meaning it reads the same forwards and backwards."
   ]
  },
  {
   "cell_type": "code",
   "execution_count": 37,
   "metadata": {},
   "outputs": [
    {
     "data": {
      "text/plain": [
       "False"
      ]
     },
     "execution_count": 37,
     "metadata": {},
     "output_type": "execute_result"
    }
   ],
   "source": [
    "def is_palindromic_tuple(tup):\n",
    "    if(tup ==()):\n",
    "        return True\n",
    "    \n",
    "    # elif not tup:\n",
    "    #     for i in range(len(tup)):\n",
    "    #         if(tup[i] != tup[len(tup)-1]):\n",
    "    #             return False\n",
    "    #         else:\n",
    "    #             tup[i] == tup[len(tup)-1]\n",
    "    #             return True\n",
    "    else:\n",
    "        return tup == tup[::-1]\n",
    "    \n",
    "is_palindromic_tuple(('x', 'y', 'z', 'x'))\n"
   ]
  },
  {
   "cell_type": "markdown",
   "metadata": {},
   "source": [
    "#### Merge Dictionaries with Overlapping Keys\n",
    "\n",
    "Design a Python function named merge_dicts_with_overlapping_keys that merges multiple dictionaries into a single dictionary. If a key appears in more than one dictionary, sum up their values."
   ]
  },
  {
   "cell_type": "code",
   "execution_count": 21,
   "metadata": {},
   "outputs": [
    {
     "ename": "TypeError",
     "evalue": "merge_dicts_with_overlapping_keys() takes 1 positional argument but 2 were given",
     "output_type": "error",
     "traceback": [
      "\u001b[1;31m---------------------------------------------------------------------------\u001b[0m",
      "\u001b[1;31mTypeError\u001b[0m                                 Traceback (most recent call last)",
      "Cell \u001b[1;32mIn[21], line 14\u001b[0m\n\u001b[0;32m      9\u001b[0m                 \u001b[38;5;28mdict\u001b[39m[key]\u001b[38;5;241m=\u001b[39mvalue\n\u001b[0;32m     11\u001b[0m     \u001b[38;5;28;01mreturn\u001b[39;00m \u001b[38;5;28mdict\u001b[39m\n\u001b[1;32m---> 14\u001b[0m \u001b[43mmerge_dicts_with_overlapping_keys\u001b[49m\u001b[43m(\u001b[49m\u001b[43m{\u001b[49m\u001b[38;5;124;43m'\u001b[39;49m\u001b[38;5;124;43ma\u001b[39;49m\u001b[38;5;124;43m'\u001b[39;49m\u001b[43m:\u001b[49m\u001b[43m \u001b[49m\u001b[38;5;241;43m1\u001b[39;49m\u001b[43m,\u001b[49m\u001b[43m \u001b[49m\u001b[38;5;124;43m'\u001b[39;49m\u001b[38;5;124;43mb\u001b[39;49m\u001b[38;5;124;43m'\u001b[39;49m\u001b[43m:\u001b[49m\u001b[43m \u001b[49m\u001b[38;5;241;43m2\u001b[39;49m\u001b[43m}\u001b[49m\u001b[43m,\u001b[49m\u001b[43m \u001b[49m\u001b[43m{\u001b[49m\u001b[38;5;124;43m'\u001b[39;49m\u001b[38;5;124;43mb\u001b[39;49m\u001b[38;5;124;43m'\u001b[39;49m\u001b[43m:\u001b[49m\u001b[43m \u001b[49m\u001b[38;5;241;43m3\u001b[39;49m\u001b[43m,\u001b[49m\u001b[43m \u001b[49m\u001b[38;5;124;43m'\u001b[39;49m\u001b[38;5;124;43mc\u001b[39;49m\u001b[38;5;124;43m'\u001b[39;49m\u001b[43m:\u001b[49m\u001b[43m \u001b[49m\u001b[38;5;241;43m4\u001b[39;49m\u001b[43m}\u001b[49m\u001b[43m)\u001b[49m\n",
      "\u001b[1;31mTypeError\u001b[0m: merge_dicts_with_overlapping_keys() takes 1 positional argument but 2 were given"
     ]
    }
   ],
   "source": [
    "def merge_dicts_with_overlapping_keys(dicts):\n",
    "    dict = {}\n",
    "    \n",
    "    for i in dicts:\n",
    "        for key,value in i.items():\n",
    "            if key in dict:\n",
    "                dict[key]+=value\n",
    "            else:\n",
    "                dict[key]=value\n",
    "                \n",
    "    return dict\n",
    "\n",
    "\n",
    "merge_dicts_with_overlapping_keys({'a': 1, 'b': 2}, {'b': 3, 'c': 4})\n",
    "    \n",
    "    \n"
   ]
  },
  {
   "cell_type": "markdown",
   "metadata": {},
   "source": [
    "#### Check if a List is a Subset of Another List (Brute Force Approach):\n",
    "\n",
    "You are given two lists of integers. Write a Python program that checks whether the first list is a subset of the second list using a brute-force approach, without using the in keyword. A list is considered a subset if all elements of the first list are present in the second list."
   ]
  },
  {
   "cell_type": "code",
   "execution_count": 33,
   "metadata": {},
   "outputs": [
    {
     "data": {
      "text/plain": [
       "True"
      ]
     },
     "execution_count": 33,
     "metadata": {},
     "output_type": "execute_result"
    }
   ],
   "source": [
    "def is_subset(lst1, lst2):\n",
    "    let1 = set(lst1)\n",
    "    let2 = set(lst2)\n",
    "    \n",
    "    return let1.issubset(let2)\n",
    "is_subset([1, 2, 3],[1, 2, 3, 4, 5])\n"
   ]
  },
  {
   "cell_type": "code",
   "execution_count": 11,
   "metadata": {},
   "outputs": [
    {
     "data": {
      "text/plain": [
       "False"
      ]
     },
     "execution_count": 11,
     "metadata": {},
     "output_type": "execute_result"
    }
   ],
   "source": [
    "def subset(l1,l2):\n",
    "    for i in l1:\n",
    "        if i not in l2:\n",
    "            return False\n",
    "    return True\n",
    "\n",
    "subset([1, 2, 6],[1, 2, 3, 4, 5])"
   ]
  },
  {
   "cell_type": "markdown",
   "metadata": {},
   "source": [
    "#### \n",
    "Sum of N Even Natural Numbers:\n",
    "\n",
    "You are given an integer n. Your task is to calculate and return the sum of the first n even natural numbers. The even natural numbers are: 2, 4, 6, 8, ..."
   ]
  },
  {
   "cell_type": "code",
   "execution_count": 25,
   "metadata": {},
   "outputs": [
    {
     "data": {
      "text/plain": [
       "30"
      ]
     },
     "execution_count": 25,
     "metadata": {},
     "output_type": "execute_result"
    }
   ],
   "source": [
    "def sum_of_even_numbers(n):\n",
    "    sum = 0\n",
    "    for i in range(2,2*n +1):\n",
    "        if i%2 == 0:\n",
    "            sum+=i\n",
    "    return sum\n",
    "            \n",
    "sum_of_even_numbers(5)"
   ]
  },
  {
   "cell_type": "code",
   "execution_count": 34,
   "metadata": {},
   "outputs": [
    {
     "data": {
      "text/plain": [
       "6"
      ]
     },
     "execution_count": 34,
     "metadata": {},
     "output_type": "execute_result"
    }
   ],
   "source": [
    "def sum(m):\n",
    "    total = 0\n",
    "    current = 2\n",
    "    \n",
    "    for i in range(m):\n",
    "        total += current\n",
    "        # current += 2\n",
    "        \n",
    "    return total\n",
    "sum(3)\n",
    "\n",
    "        "
   ]
  },
  {
   "cell_type": "markdown",
   "metadata": {},
   "source": [
    "#### Check for Even Number:\n",
    "Problem Description:\n",
    "\n",
    "You are given an integer n. Your task is to check whether the number is even or not. Return True if the number is even, and False otherwise."
   ]
  },
  {
   "cell_type": "code",
   "execution_count": 35,
   "metadata": {},
   "outputs": [
    {
     "data": {
      "text/plain": [
       "False"
      ]
     },
     "execution_count": 35,
     "metadata": {},
     "output_type": "execute_result"
    }
   ],
   "source": [
    "def is_even(n):\n",
    "    if n%2==0:\n",
    "        return True\n",
    "    else:\n",
    "        return False\n",
    "is_even(5)"
   ]
  },
  {
   "cell_type": "markdown",
   "metadata": {},
   "source": [
    "#### Check for Prime Number:\n",
    "Problem Description:\n",
    "\n",
    "You are given an integer n. Your task is to check whether the number is prime or not. A prime number is a number greater than 1 that has no divisors other than 1 and itself. Return True if the number is prime, and False otherwise"
   ]
  },
  {
   "cell_type": "code",
   "execution_count": 92,
   "metadata": {},
   "outputs": [
    {
     "data": {
      "text/plain": [
       "False"
      ]
     },
     "execution_count": 92,
     "metadata": {},
     "output_type": "execute_result"
    }
   ],
   "source": [
    "def is_prime(n):\n",
    "    if n <=1:\n",
    "        return False\n",
    "    elif n ==2 or  n ==3 or n ==5 or n ==7 :\n",
    "        return True\n",
    "    elif n%2 == 0 or n%3 == 0 or n%5 == 0 or n%7 == 0:\n",
    "        return False\n",
    "    else:\n",
    "        return True\n",
    "    \n",
    "is_prime(32)"
   ]
  },
  {
   "cell_type": "markdown",
   "metadata": {},
   "source": [
    "#### Valid Perfect Square:\n",
    "Problem Description:\n",
    "\n",
    "You are given a positive integer num. Your task is to check whether num is a perfect square or not. A perfect square is an integer that is the square of an integer (e.g., 1, 4, 9, 16, ...). Return True if num is a perfect square, and False otherwise."
   ]
  },
  {
   "cell_type": "code",
   "execution_count": 12,
   "metadata": {},
   "outputs": [
    {
     "data": {
      "text/plain": [
       "False"
      ]
     },
     "execution_count": 12,
     "metadata": {},
     "output_type": "execute_result"
    }
   ],
   "source": [
    "def is_perfect_square(num):\n",
    "    set = num**0.5\n",
    "    if set is int:\n",
    "        return True\n",
    "    else:\n",
    "        return False\n",
    "        \n",
    "    \n",
    "is_perfect_square(16)"
   ]
  },
  {
   "cell_type": "code",
   "execution_count": null,
   "metadata": {},
   "outputs": [
    {
     "data": {
      "text/plain": [
       "False"
      ]
     },
     "execution_count": 4,
     "metadata": {},
     "output_type": "execute_result"
    }
   ],
   "source": [
    "def perfect(n):\n",
    "   set = [i**2 for i in range(n)]\n",
    "   \n",
    "   for i in set:\n",
    "        if i**2 == set:\n",
    "           return True \n",
    "        else:\n",
    "            return False\n",
    "   return set\n",
    "\n",
    "        "
   ]
  },
  {
   "cell_type": "code",
   "execution_count": 5,
   "metadata": {},
   "outputs": [
    {
     "name": "stdout",
     "output_type": "stream",
     "text": [
      "4\n",
      "3\n",
      "2\n",
      "1\n",
      "0\n"
     ]
    }
   ],
   "source": [
    "for i in reversed(range(5)):\n",
    "    print(i)"
   ]
  },
  {
   "cell_type": "code",
   "execution_count": 1,
   "metadata": {},
   "outputs": [
    {
     "data": {
      "text/plain": [
       "True"
      ]
     },
     "execution_count": 1,
     "metadata": {},
     "output_type": "execute_result"
    }
   ],
   "source": [
    "def square(num):\n",
    "    if num<1:\n",
    "        return False\n",
    "    else:\n",
    "        sqrt_num = (num ** 0.5)\n",
    "        return sqrt_num * sqrt_num == num\n",
    "square(25)"
   ]
  },
  {
   "cell_type": "markdown",
   "metadata": {},
   "source": [
    "#### Decimal to Binary:\n",
    "Problem Description:\n",
    "\n",
    "You are given an integer n. Your task is to return its binary representation as a string. Do not use any built-in functions for conversion."
   ]
  },
  {
   "cell_type": "code",
   "execution_count": 12,
   "metadata": {},
   "outputs": [
    {
     "data": {
      "text/plain": [
       "'1010'"
      ]
     },
     "execution_count": 12,
     "metadata": {},
     "output_type": "execute_result"
    }
   ],
   "source": [
    "def int_to_binary(n):\n",
    "    if n == 0:\n",
    "        return '0'\n",
    "    \n",
    "    is_negative = n<0\n",
    "    if is_negative:\n",
    "        n = -n\n",
    "    \n",
    "    binary = ''\n",
    "    while n>0:\n",
    "        remainder = n%2\n",
    "        binary = str(remainder) + binary\n",
    "        n //= 2\n",
    "        \n",
    "    return '-'+ binary if is_negative else binary\n",
    "\n",
    "int_to_binary(10)\n",
    "        "
   ]
  },
  {
   "cell_type": "markdown",
   "metadata": {},
   "source": [
    "##### You are given a string binary_str representing a binary number. Your task is to convert this binary string to its corresponding decimal integer. Do not use any built-in functions for conversion.\n",
    "\n"
   ]
  },
  {
   "cell_type": "code",
   "execution_count": 1,
   "metadata": {},
   "outputs": [
    {
     "ename": "KeyboardInterrupt",
     "evalue": "",
     "output_type": "error",
     "traceback": [
      "\u001b[1;31m---------------------------------------------------------------------------\u001b[0m",
      "\u001b[1;31mKeyboardInterrupt\u001b[0m                         Traceback (most recent call last)",
      "Cell \u001b[1;32mIn[1], line 12\u001b[0m\n\u001b[0;32m      9\u001b[0m             remainder \u001b[38;5;241m/\u001b[39m\u001b[38;5;241m/\u001b[39m\u001b[38;5;241m=\u001b[39m \u001b[38;5;241m2\u001b[39m\n\u001b[0;32m     10\u001b[0m     \u001b[38;5;28;01mreturn\u001b[39;00m number\n\u001b[1;32m---> 12\u001b[0m \u001b[43mbinary_to_decimal\u001b[49m\u001b[43m(\u001b[49m\u001b[38;5;241;43m101\u001b[39;49m\u001b[43m)\u001b[49m\n",
      "Cell \u001b[1;32mIn[1], line 8\u001b[0m, in \u001b[0;36mbinary_to_decimal\u001b[1;34m(binary_str)\u001b[0m\n\u001b[0;32m      6\u001b[0m \u001b[38;5;28;01mif\u001b[39;00m binary_str\u001b[38;5;241m>\u001b[39m\u001b[38;5;241m0\u001b[39m:\n\u001b[0;32m      7\u001b[0m     remainder \u001b[38;5;241m=\u001b[39m binary_str\u001b[38;5;241m%\u001b[39m\u001b[38;5;241m10\u001b[39m\n\u001b[1;32m----> 8\u001b[0m     \u001b[38;5;28;01mwhile\u001b[39;00m binary_str\u001b[38;5;241m>\u001b[39m\u001b[38;5;241m0\u001b[39m:\n\u001b[0;32m      9\u001b[0m         remainder \u001b[38;5;241m/\u001b[39m\u001b[38;5;241m/\u001b[39m\u001b[38;5;241m=\u001b[39m \u001b[38;5;241m2\u001b[39m\n\u001b[0;32m     10\u001b[0m \u001b[38;5;28;01mreturn\u001b[39;00m number\n",
      "\u001b[1;31mKeyboardInterrupt\u001b[0m: "
     ]
    }
   ],
   "source": [
    "def binary_to_decimal(binary_str):\n",
    "    if binary_str == 0:\n",
    "        return '0'\n",
    "    \n",
    "    number = ''\n",
    "    if binary_str>0:\n",
    "        remainder = binary_str%10\n",
    "        while binary_str>0:\n",
    "            remainder //= 2\n",
    "    return number\n",
    "\n",
    "binary_to_decimal(101)\n",
    "        "
   ]
  },
  {
   "cell_type": "markdown",
   "metadata": {},
   "source": [
    "#### You are given a string s. Your task is to return the reversed version of the string.\n",
    "\n"
   ]
  },
  {
   "cell_type": "code",
   "execution_count": 7,
   "metadata": {},
   "outputs": [
    {
     "data": {
      "text/plain": [
       "'aytidA'"
      ]
     },
     "execution_count": 7,
     "metadata": {},
     "output_type": "execute_result"
    }
   ],
   "source": [
    "def reverse_string(s):\n",
    "    reversed_str = ''\n",
    "    for i in s:\n",
    "        reversed_str = str(i) + reversed_str\n",
    "    return reversed_str\n",
    "\n",
    "reverse_string(\"Aditya\")"
   ]
  },
  {
   "cell_type": "markdown",
   "metadata": {},
   "source": [
    "#### You are given a string s. Your task is to count the number of vowels (both uppercase and lowercase) in the string and return the total count."
   ]
  },
  {
   "cell_type": "code",
   "execution_count": 20,
   "metadata": {},
   "outputs": [
    {
     "data": {
      "text/plain": [
       "3"
      ]
     },
     "execution_count": 20,
     "metadata": {},
     "output_type": "execute_result"
    }
   ],
   "source": [
    "def count_vowels(s):\n",
    "    vowels = \"aeiouAEIOU\"\n",
    "    count = 0\n",
    "    for vowel in s:\n",
    "        if vowel in vowels:\n",
    "            count = count+1\n",
    "    return count\n",
    "        \n",
    "count_vowels(\"Hello, World!\")"
   ]
  },
  {
   "cell_type": "code",
   "execution_count": 9,
   "metadata": {},
   "outputs": [
    {
     "name": "stdout",
     "output_type": "stream",
     "text": [
      "A\n",
      "d\n",
      "i\n",
      "t\n",
      "y\n",
      "a\n"
     ]
    }
   ],
   "source": [
    "name = \"Aditya\"\n",
    "for i in name:\n",
    "    print(i)"
   ]
  },
  {
   "cell_type": "markdown",
   "metadata": {},
   "source": [
    "##### You are given two strings s and t. Your task is to check if the two strings are equal. Two strings are considered equal if they have the same length and the same characters at each position. You are not allowed to use any built-in string comparison functions."
   ]
  },
  {
   "cell_type": "code",
   "execution_count": 22,
   "metadata": {},
   "outputs": [
    {
     "data": {
      "text/plain": [
       "False"
      ]
     },
     "execution_count": 22,
     "metadata": {},
     "output_type": "execute_result"
    }
   ],
   "source": [
    "def are_equal_strings(s, t):\n",
    "    if str(s) == str(t):\n",
    "        return True \n",
    "    else:\n",
    "        return False\n",
    "    \n",
    "are_equal_strings(\"Hello\",\"World\")"
   ]
  },
  {
   "cell_type": "markdown",
   "metadata": {},
   "source": [
    "##### You are given a string s. Your task is to check if the string is a palindrome. A string is considered a palindrome if it reads the same forward and backward, ignoring spaces, punctuation, and case."
   ]
  },
  {
   "cell_type": "code",
   "execution_count": 22,
   "metadata": {},
   "outputs": [
    {
     "data": {
      "text/plain": [
       "True"
      ]
     },
     "execution_count": 22,
     "metadata": {},
     "output_type": "execute_result"
    }
   ],
   "source": [
    "def is_palindrome(s):\n",
    "    new_text = str(s).lower()\n",
    "    new_word = new_text.replace(\" \", \"\")\n",
    "    if new_word[::1] == new_word[::-1]:\n",
    "        return True \n",
    "    else:\n",
    "        return False\n",
    "    \n",
    "is_palindrome(\"A man a plan a canal Panama\")"
   ]
  },
  {
   "cell_type": "code",
   "execution_count": 21,
   "metadata": {},
   "outputs": [
    {
     "name": "stdout",
     "output_type": "stream",
     "text": [
      "amanaplanacanalpanama\n"
     ]
    }
   ],
   "source": [
    "seta= \"A man a plan a canal Panama\"\n",
    "# new_text = seta.replace(\" \", \"\")\n",
    "new_text = seta.lower()\n",
    "new_word = new_text.replace(\" \",\"\")\n",
    "\n",
    "print(new_word[::-1])"
   ]
  },
  {
   "cell_type": "markdown",
   "metadata": {},
   "source": [
    "####\n",
    "Count words in a string:\n",
    "\n",
    "You are given a string s. Your task is to count the number of words in the string and return the total count. A word is defined as a sequence of characters separated by spaces."
   ]
  },
  {
   "cell_type": "code",
   "execution_count": 25,
   "metadata": {},
   "outputs": [
    {
     "data": {
      "text/plain": [
       "4"
      ]
     },
     "execution_count": 25,
     "metadata": {},
     "output_type": "execute_result"
    }
   ],
   "source": [
    "def count_words(s):\n",
    "    count = 0\n",
    "    set_words = str(s).split()\n",
    "    for i in set_words:\n",
    "        count = count+1\n",
    "        \n",
    "    return count\n",
    "count_words( \"Python programming is fun.\")"
   ]
  },
  {
   "cell_type": "markdown",
   "metadata": {},
   "source": [
    "#### Remove Duplicates in a string\n",
    "Problem Description:\n",
    "\n",
    "You are given a string s. Your task is to remove duplicate characters from the string while preserving the order of the first occurrences and return the modified string."
   ]
  },
  {
   "cell_type": "code",
   "execution_count": 9,
   "metadata": {},
   "outputs": [
    {
     "data": {
      "text/plain": [
       "'Helo, Wrd!'"
      ]
     },
     "execution_count": 9,
     "metadata": {},
     "output_type": "execute_result"
    }
   ],
   "source": [
    "def remove_duplicates(s):\n",
    "    dic = \"\"\n",
    "    # new_word = str(s)\n",
    "    for word in s:\n",
    "        if word not in dic:\n",
    "            dic = dic + word\n",
    "    return dic\n",
    "\n",
    "remove_duplicates(\"Hello, World!\")"
   ]
  },
  {
   "cell_type": "markdown",
   "metadata": {},
   "source": [
    "#### Count consonants in a string\n",
    "Problem Description:\n",
    "\n",
    "You are given a string s. Your task is to count the number of consonants in the string and return the total count. A consonant is any alphabetic character that is not a vowel (a, e, i, o, u)."
   ]
  },
  {
   "cell_type": "code",
   "execution_count": null,
   "metadata": {},
   "outputs": [
    {
     "data": {
      "text/plain": [
       "7"
      ]
     },
     "execution_count": 16,
     "metadata": {},
     "output_type": "execute_result"
    }
   ],
   "source": [
    "# method-1\n",
    "def count_consonants(s):\n",
    "    vowels = \"aeiouAEIOU!,.\"\n",
    "    count = 0\n",
    "    cons_word = str(s).replace(\" \",\"\")\n",
    "    for consonant in cons_word:\n",
    "        if consonant not in vowels:\n",
    "            count+=1\n",
    "            \n",
    "    return count\n",
    "count_consonants(\"Hello, World!\")\n",
    "\n",
    "            "
   ]
  },
  {
   "cell_type": "code",
   "execution_count": null,
   "metadata": {},
   "outputs": [
    {
     "data": {
      "text/plain": [
       "7"
      ]
     },
     "execution_count": 19,
     "metadata": {},
     "output_type": "execute_result"
    }
   ],
   "source": [
    "## method-2\n",
    "def count_consonants(s):\n",
    "    vowels = \"aeiouAEIOU\"\n",
    "    count = 0\n",
    "    for consonant in s:\n",
    "        if ('a'<=consonant<='z') or ('A'<=consonant<='Z'):\n",
    "            if consonant not in vowels:\n",
    "                count+=1\n",
    "            \n",
    "    return count\n",
    "count_consonants(\"Hello, World!\")"
   ]
  },
  {
   "cell_type": "code",
   "execution_count": null,
   "metadata": {},
   "outputs": [],
   "source": []
  }
 ],
 "metadata": {
  "kernelspec": {
   "display_name": "Python 3",
   "language": "python",
   "name": "python3"
  },
  "language_info": {
   "codemirror_mode": {
    "name": "ipython",
    "version": 3
   },
   "file_extension": ".py",
   "mimetype": "text/x-python",
   "name": "python",
   "nbconvert_exporter": "python",
   "pygments_lexer": "ipython3",
   "version": "3.12.6"
  }
 },
 "nbformat": 4,
 "nbformat_minor": 2
}
