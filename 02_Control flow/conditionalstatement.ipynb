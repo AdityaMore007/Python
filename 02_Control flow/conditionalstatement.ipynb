{
 "cells": [
  {
   "cell_type": "code",
   "execution_count": 1,
   "metadata": {},
   "outputs": [
    {
     "name": "stdout",
     "output_type": "stream",
     "text": [
      "Aditya,you are allowed in elction\n"
     ]
    }
   ],
   "source": [
    "## if statement\n",
    "age = 20\n",
    "if age>18:\n",
    "    print(\"Aditya,you are allowed in elction\")"
   ]
  },
  {
   "cell_type": "code",
   "execution_count": 2,
   "metadata": {},
   "outputs": [
    {
     "name": "stdout",
     "output_type": "stream",
     "text": [
      "You are not eligible to vote.\n"
     ]
    }
   ],
   "source": [
    "age = 16\n",
    "\n",
    "if age>=18:\n",
    "    print(\"Aditya, you are eligible to vote in Election.\")\n",
    "else:\n",
    "    print(\"You are not eligible to vote.\")"
   ]
  },
  {
   "cell_type": "code",
   "execution_count": 3,
   "metadata": {},
   "outputs": [
    {
     "name": "stdout",
     "output_type": "stream",
     "text": [
      "Hey buddy, you're not eligible to drive the vehicle.\n"
     ]
    }
   ],
   "source": [
    "## elif statement:allows to check multiple conditions.\n",
    "age = 14\n",
    "\n",
    "if age>=18:\n",
    "    print(\"Hey youngster,You're allowed to drive the four wheeler.\")\n",
    "elif age>16:\n",
    "    print(\"Hey Buddy,you're allowed to drive two wheeler.\")\n",
    "else:\n",
    "    print(\"Hey buddy, you're not eligible to drive the vehicle.\")"
   ]
  },
  {
   "cell_type": "code",
   "execution_count": 3,
   "metadata": {},
   "outputs": [
    {
     "name": "stdout",
     "output_type": "stream",
     "text": [
      "Number is zero or negative.\n"
     ]
    }
   ],
   "source": [
    "## nested conditionals statement.\n",
    "##find number as even,odd,negative.\n",
    "num = int(input(\"Enter the Number: \"))\n",
    "\n",
    "if num>=0:\n",
    "    print(\"No. is Positive.\")\n",
    "    if num%2 == 0:\n",
    "        print(\"Number is Even\")\n",
    "    else:\n",
    "        print(\"Number is ODD\")\n",
    "\n",
    "else :\n",
    "    print(\"Number is zero or negative.\")\n",
    "        "
   ]
  },
  {
   "cell_type": "code",
   "execution_count": 5,
   "metadata": {},
   "outputs": [
    {
     "name": "stdout",
     "output_type": "stream",
     "text": [
      "2024 is a Leap Year.\n"
     ]
    }
   ],
   "source": [
    "## practical examples.\n",
    "\n",
    "## determine if a year is leap year using nested conditionals.\n",
    "year = int(input(\"Enter the Year\"))\n",
    "\n",
    "if year%4 == 0:\n",
    "    print(f\"{year} is a Leap Year.\")\n",
    "else:\n",
    "    print(f\"{year} is not a Leap Year.\")\n"
   ]
  },
  {
   "cell_type": "code",
   "execution_count": null,
   "metadata": {},
   "outputs": [],
   "source": []
  }
 ],
 "metadata": {
  "kernelspec": {
   "display_name": "Python 3",
   "language": "python",
   "name": "python3"
  },
  "language_info": {
   "codemirror_mode": {
    "name": "ipython",
    "version": 3
   },
   "file_extension": ".py",
   "mimetype": "text/x-python",
   "name": "python",
   "nbconvert_exporter": "python",
   "pygments_lexer": "ipython3",
   "version": "3.12.0"
  }
 },
 "nbformat": 4,
 "nbformat_minor": 2
}
