{
 "cells": [
  {
   "cell_type": "code",
   "execution_count": 11,
   "metadata": {},
   "outputs": [
    {
     "name": "stdout",
     "output_type": "stream",
     "text": [
      "Result:  Error! Number is not divisible by zero\n"
     ]
    }
   ],
   "source": [
    "num1 = float(input(\"Enter the Number: \"))\n",
    "num2 = float(input(\"Enter the Number: \"))\n",
    "\n",
    "operation = input(\"Add,Sub,Mul,Div\")\n",
    "\n",
    "if operation == \"Add\":\n",
    "    Result = num1 + num2\n",
    "elif operation == \"sub\":\n",
    "    Result = num1 - num2\n",
    "elif operation == \"Mul\":\n",
    "    Result = num1 * num2\n",
    "elif operation == \"Div\":\n",
    "    if num2 != 0:\n",
    "        Result = num1 / num2\n",
    "    else:\n",
    "        Result = \"Error! Number is not divisible by zero\"\n",
    "else:\n",
    "    Result = \"InValid Operation!!\"\n",
    "\n",
    "print(\"Result: \",Result)\n",
    "\n"
   ]
  },
  {
   "cell_type": "code",
   "execution_count": null,
   "metadata": {},
   "outputs": [],
   "source": []
  }
 ],
 "metadata": {
  "kernelspec": {
   "display_name": "Python 3",
   "language": "python",
   "name": "python3"
  },
  "language_info": {
   "codemirror_mode": {
    "name": "ipython",
    "version": 3
   },
   "file_extension": ".py",
   "mimetype": "text/x-python",
   "name": "python",
   "nbconvert_exporter": "python",
   "pygments_lexer": "ipython3",
   "version": "3.12.0"
  }
 },
 "nbformat": 4,
 "nbformat_minor": 2
}
