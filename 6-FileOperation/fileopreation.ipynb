{
 "cells": [
  {
   "cell_type": "markdown",
   "id": "701f7ccb",
   "metadata": {},
   "source": [
    "#### File Operation- Read And Write Files\n",
    "\n",
    "File handling is a crucial part of any programming language. Python provides built-in functions and methods to read from and write to files, both text and binary. This lesson will cover the basics of file handling, including reading and writing text files and binary files."
   ]
  },
  {
   "cell_type": "code",
   "execution_count": 2,
   "id": "4e37260a",
   "metadata": {},
   "outputs": [
    {
     "name": "stdout",
     "output_type": "stream",
     "text": [
      "hello How are you?\n",
      "I am good\n",
      "Krish is my name\n",
      "Welcome to the Course \n",
      "\n"
     ]
    }
   ],
   "source": [
    "## Read the Whole file\n",
    "with open('example.txt','r') as file:\n",
    "    content = file.read()\n",
    "    print(content) "
   ]
  },
  {
   "cell_type": "code",
   "execution_count": 4,
   "id": "66d792da",
   "metadata": {},
   "outputs": [
    {
     "name": "stdout",
     "output_type": "stream",
     "text": [
      "hello How are you?\n",
      "I am good\n",
      "Krish is my name\n",
      "Welcome to the Course\n"
     ]
    }
   ],
   "source": [
    "## read the file line by line\n",
    "with open('example.txt','r') as file:\n",
    "    for line in file:\n",
    "        print(line.strip())\n",
    "        ## strip() removes the newline character."
   ]
  },
  {
   "cell_type": "code",
   "execution_count": 6,
   "id": "c168fe73",
   "metadata": {},
   "outputs": [],
   "source": [
    "## Writing a file(OverWrtiitng)\n",
    "\n",
    "with open('example.txt','w') as file:\n",
    "    file.write('hello World!\\n')\n",
    "    file.write('this is a new line.') \n",
    "    "
   ]
  },
  {
   "cell_type": "code",
   "execution_count": 10,
   "id": "0b833aed",
   "metadata": {},
   "outputs": [],
   "source": [
    "## Write a file without overwriting\n",
    "\n",
    "with open('example.txt','a') as file:\n",
    "    file.write('Append operation taking place!! \\n')"
   ]
  },
  {
   "cell_type": "code",
   "execution_count": 11,
   "id": "6943f01a",
   "metadata": {},
   "outputs": [],
   "source": [
    "# Writing a list of line to a file.\n",
    " \n",
    "lines = ['First line \\n','Second line \\n','Third line \\n']\n",
    "\n",
    "with open('example.txt','a') as file:\n",
    "    file.writelines(lines)\n"
   ]
  },
  {
   "cell_type": "code",
   "execution_count": 12,
   "id": "823cf200",
   "metadata": {},
   "outputs": [],
   "source": [
    "### Binary Files\n",
    "\n",
    "# Writing to a binary file\n",
    "data = b'\\x00\\x01\\x02\\x03\\x04'\n",
    "with open('example.bin', 'wb') as file:\n",
    "    file.write(data)"
   ]
  },
  {
   "cell_type": "code",
   "execution_count": 13,
   "id": "9a46a6a9",
   "metadata": {},
   "outputs": [
    {
     "name": "stdout",
     "output_type": "stream",
     "text": [
      "b'\\x00\\x01\\x02\\x03\\x04'\n"
     ]
    }
   ],
   "source": [
    "# Writing to a binary file\n",
    "# data = b'\\x00\\x01\\x02\\x03\\x04'\n",
    "with open('example.bin', 'rb') as file:\n",
    "    content = file.read()\n",
    "    print(content)\n"
   ]
  },
  {
   "cell_type": "code",
   "execution_count": 14,
   "id": "7239a7ab",
   "metadata": {},
   "outputs": [],
   "source": [
    "# read the content from source text file and write to destination text file\n",
    "\n",
    "# Copying a text file\n",
    "with open('example.txt', 'r') as source_file:\n",
    "    content = source_file.read()\n",
    "\n",
    "with open('destination.txt', 'w') as destination_file:\n",
    "    destination_file.write(content)\n"
   ]
  },
  {
   "cell_type": "code",
   "execution_count": 15,
   "id": "c70e782d",
   "metadata": {},
   "outputs": [
    {
     "name": "stdout",
     "output_type": "stream",
     "text": [
      "Lines: 8, Words: 25, Characters: 170\n"
     ]
    }
   ],
   "source": [
    "# read a text file and count the number of lines,words, and characters.\n",
    "\n",
    "# Counting lines, words, and characters in a text file\n",
    "def count_text_file(file_path):\n",
    "    with open(file_path, 'r') as file:\n",
    "        lines = file.readlines()\n",
    "        line_count = len(lines)\n",
    "        word_count = sum(len(line.split()) for line in lines)\n",
    "        char_count = sum(len(line) for line in lines)\n",
    "    return line_count, word_count, char_count\n",
    "\n",
    "file_path = 'example.txt'\n",
    "lines, words, characters = count_text_file(file_path)\n",
    "print(f'Lines: {lines}, Words: {words}, Characters: {characters}')\n"
   ]
  },
  {
   "cell_type": "markdown",
   "id": "3f1e3043",
   "metadata": {},
   "source": [
    "The w+ mode in Python is used to open a file for both reading and writing. If the file does not exist, it will be created. If the file exists, its content is truncated (i.e., the file is overwritten)."
   ]
  },
  {
   "cell_type": "code",
   "execution_count": 23,
   "id": "755a6a79",
   "metadata": {},
   "outputs": [
    {
     "name": "stdout",
     "output_type": "stream",
     "text": [
      "hello World\n",
      "This is a new line \n",
      "\n"
     ]
    }
   ],
   "source": [
    "## Writing and then reading the file\n",
    "\n",
    "with open('example.txt','w+') as file:\n",
    "    file.write(\"hello World\\n\")\n",
    "    file.write(\"This is a new line \\n\")\n",
    "    \n",
    "    ## Move the file cursor to the beginning \n",
    "    file.seek(0)\n",
    "    \n",
    "    ## Read the content of the file\n",
    "    content =file.read()\n",
    "    print(content)"
   ]
  },
  {
   "cell_type": "code",
   "execution_count": null,
   "id": "c57dc495",
   "metadata": {},
   "outputs": [],
   "source": []
  }
 ],
 "metadata": {
  "kernelspec": {
   "display_name": "Python 3",
   "language": "python",
   "name": "python3"
  },
  "language_info": {
   "codemirror_mode": {
    "name": "ipython",
    "version": 3
   },
   "file_extension": ".py",
   "mimetype": "text/x-python",
   "name": "python",
   "nbconvert_exporter": "python",
   "pygments_lexer": "ipython3",
   "version": "3.12.6"
  }
 },
 "nbformat": 4,
 "nbformat_minor": 5
}
