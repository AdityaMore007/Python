{
 "cells": [
  {
   "cell_type": "markdown",
   "id": "9c9077ed",
   "metadata": {},
   "source": [
    "#### Search and Sort Examples"
   ]
  },
  {
   "cell_type": "code",
   "execution_count": null,
   "id": "fd7cea95",
   "metadata": {},
   "outputs": [
    {
     "data": {
      "text/plain": [
       "7"
      ]
     },
     "execution_count": 15,
     "metadata": {},
     "output_type": "execute_result"
    }
   ],
   "source": [
    "## 1st Solution (Brute force approach)\n",
    "\n",
    "def countNegatives(grid):\n",
    "    \n",
    "    count = 0\n",
    "    \n",
    "    for i in grid:\n",
    "        for j in i:\n",
    "            if j < 0:\n",
    "                count +=1\n",
    "                \n",
    "    return count\n",
    "\n",
    "countNegatives([[4, 3, 2, 1], [3, 2, 1, -1], [1, 1, -1, -2], [-1, -1, -2, -3]])\n",
    "            \n",
    "        "
   ]
  },
  {
   "cell_type": "code",
   "execution_count": null,
   "id": "a24d1ca2",
   "metadata": {},
   "outputs": [],
   "source": [
    "## 2nd Solution (Binary Search) --> IMP Method\n",
    "\n",
    "def countNegatives(grid):\n",
    "    row_len = len(grid[0])\n",
    "    col_len = len(grid)\n",
    "    \n",
    "    i = 0\n",
    "    j = row_len - 1\n",
    "    total = 0\n",
    "    \n",
    "    "
   ]
  }
 ],
 "metadata": {
  "kernelspec": {
   "display_name": "Python 3",
   "language": "python",
   "name": "python3"
  },
  "language_info": {
   "codemirror_mode": {
    "name": "ipython",
    "version": 3
   },
   "file_extension": ".py",
   "mimetype": "text/x-python",
   "name": "python",
   "nbconvert_exporter": "python",
   "pygments_lexer": "ipython3",
   "version": "3.12.6"
  }
 },
 "nbformat": 4,
 "nbformat_minor": 5
}
