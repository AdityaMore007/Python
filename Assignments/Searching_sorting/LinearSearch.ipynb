{
 "cells": [
  {
   "cell_type": "markdown",
   "metadata": {},
   "source": [
    "#### Linear Search:"
   ]
  },
  {
   "cell_type": "code",
   "execution_count": null,
   "metadata": {},
   "outputs": [
    {
     "data": {
      "text/plain": [
       "-1"
      ]
     },
     "execution_count": 4,
     "metadata": {},
     "output_type": "execute_result"
    }
   ],
   "source": [
    "def linear_search(arr,target):\n",
    "    size = len(arr)\n",
    "    for index in range(0,size):\n",
    "        if (arr[index] == target):\n",
    "            return index\n",
    "    return -1\n",
    "\n",
    "\n",
    "# my_list = [10,23,45,70,11]\n",
    "# target = 70\n",
    "\n",
    "# result = linear_search(my_list,target)\n",
    "\n",
    "# print(result)\n",
    "linear_search([10,23,45,70,11,15],450)\n"
   ]
  },
  {
   "cell_type": "markdown",
   "metadata": {},
   "source": [
    "#### Binary Search:"
   ]
  },
  {
   "cell_type": "code",
   "execution_count": 1,
   "metadata": {},
   "outputs": [
    {
     "name": "stdout",
     "output_type": "stream",
     "text": [
      "5\n"
     ]
    }
   ],
   "source": [
    "def binary_search(arr,target):\n",
    "    size = len(arr)\n",
    "    \n",
    "    start = 0\n",
    "    end = size-1\n",
    "    \n",
    "    while start <= end:\n",
    "        mid = (start + end)//2\n",
    "        \n",
    "        if arr[mid] == target:\n",
    "            return mid\n",
    "\n",
    "        elif arr[mid] > target:\n",
    "            end = mid - 1\n",
    "        elif arr[mid] < target:\n",
    "            start = mid + 1\n",
    "            \n",
    "    return -1\n",
    "\n",
    "sorted_list = [10,23,35,45,50,70,85]\n",
    "target = 70\n",
    "\n",
    "result = binary_search(sorted_list,target)\n",
    "print(result)"
   ]
  },
  {
   "cell_type": "markdown",
   "metadata": {},
   "source": [
    "#### Bubble Sort:"
   ]
  },
  {
   "cell_type": "code",
   "execution_count": null,
   "metadata": {},
   "outputs": [
    {
     "name": "stdout",
     "output_type": "stream",
     "text": [
      "Sorted_list: [11, 12, 22, 25, 34, 90, 1000]\n"
     ]
    }
   ],
   "source": [
    "def bubble_sort(arr):\n",
    "    n = len(arr)\n",
    "    \n",
    "    for passes in range(n):\n",
    "        for i in range(0,n-1-passes):\n",
    "            if arr[i] > arr [i+1]:\n",
    "                arr[i],arr[i+1] = arr[i+1],arr[i]\n",
    "    return arr\n",
    "\n",
    "# unsorted_lst = [1000,12,25,11,34,90,22]\n",
    "sorted_list = bubble_sort(unsorted_lst)\n",
    "print(\"Sorted_list:\" , sorted_list)"
   ]
  },
  {
   "cell_type": "markdown",
   "metadata": {},
   "source": [
    "#### Selection Sort:"
   ]
  },
  {
   "cell_type": "code",
   "execution_count": null,
   "metadata": {},
   "outputs": [
    {
     "name": "stdout",
     "output_type": "stream",
     "text": [
      "[11, 12, 22, 25, 34, 90]\n"
     ]
    }
   ],
   "source": [
    "def selection_sort(arr):\n",
    "    # n = len(arr)\n",
    "    \n",
    "    # min_num = min(arr)\n",
    "    # for index in range(0,n-1):\n",
    "    #     # min_num = min(arr)\n",
    "    #     if min_num < arr[index]:\n",
    "    #         arr[index],min(arr) == min(arr),arr[index]\n",
    "            \n",
    "    #     return arr\n",
    "    n = len(arr)\n",
    "    for i in range(n-1):\n",
    "        \n",
    "        min_index = i\n",
    "        \n",
    "        for j in range(i+1,n):\n",
    "            if arr[j] < arr[min_index]:\n",
    "                min_index = j\n",
    "            \n",
    "        arr[i],arr[min_index] = arr[min_index],arr[i]\n",
    "    \n",
    "    return arr\n",
    "\n",
    "\n",
    "unsorted_list = [12,25,11,34,90,22]\n",
    "sorted_list = selection_sort(unsorted_list)\n",
    "print(sorted_list)"
   ]
  },
  {
   "cell_type": "markdown",
   "metadata": {},
   "source": [
    "#### Insertion Sort:"
   ]
  },
  {
   "cell_type": "code",
   "execution_count": 10,
   "metadata": {},
   "outputs": [
    {
     "name": "stdout",
     "output_type": "stream",
     "text": [
      "[11, 12, 22, 25, 34, 90]\n"
     ]
    }
   ],
   "source": [
    "def insertion_sort(arr):\n",
    "    n = len(arr)\n",
    "    \n",
    "    for current in range(1,n):\n",
    "        currentCard = arr[current]\n",
    "        correctPosition =  current - 1 # it will go from i-1 to 0\n",
    "        \n",
    "        while correctPosition >= 0:\n",
    "            if arr[correctPosition] < currentCard:\n",
    "                break\n",
    "            else:\n",
    "                arr[correctPosition + 1] = arr[correctPosition]\n",
    "                correctPosition -= 1\n",
    "                \n",
    "            arr[correctPosition+1] = currentCard\n",
    "            \n",
    "\n",
    "    return arr\n",
    "\n",
    "unsorted_list = [12,25,11,34,90,22]\n",
    "sorted_list = insertion_sort(unsorted_list)\n",
    "print(sorted_list)"
   ]
  },
  {
   "cell_type": "markdown",
   "metadata": {},
   "source": [
    "#### Sorting Examples:"
   ]
  },
  {
   "cell_type": "markdown",
   "metadata": {},
   "source": [
    "##### You are given an m x n matrix grid where each row and column is sorted in non-increasing order. Your task is to return the number of negative numbers present in the matrix.\n",
    "\n",
    "##### Input: grid = [[4, 3, 2, 1], [3, 2, 1, -1], [1, 1, -1, -2], [-1, -1, -2, -3]] \n",
    "##### Output: 7 \n",
    "##### Explanation: There are 7 negative numbers in the matrix."
   ]
  },
  {
   "cell_type": "code",
   "execution_count": 10,
   "metadata": {},
   "outputs": [
    {
     "data": {
      "text/plain": [
       "7"
      ]
     },
     "execution_count": 10,
     "metadata": {},
     "output_type": "execute_result"
    }
   ],
   "source": [
    "## Brute Force Appraoch:\n",
    "\n",
    "def countNegatives(grid):\n",
    "    \n",
    "    n = len(grid)\n",
    "    count = 0\n",
    "    \n",
    "    for index in grid:\n",
    "        for everyNumber in index:\n",
    "            if everyNumber<=0:\n",
    "                count+=1\n",
    "    return count\n",
    "\n",
    "grid1 = [[4, 3, 2, 1], [3, 2, 1, -1], [1, 1, -1, -2], [-1, -1, -2, -3]] \n",
    "countNegatives(grid1)"
   ]
  },
  {
   "cell_type": "code",
   "execution_count": null,
   "metadata": {},
   "outputs": [],
   "source": [
    "## Binary Search Method:\n",
    "\n"
   ]
  }
 ],
 "metadata": {
  "kernelspec": {
   "display_name": "Python 3",
   "language": "python",
   "name": "python3"
  },
  "language_info": {
   "codemirror_mode": {
    "name": "ipython",
    "version": 3
   },
   "file_extension": ".py",
   "mimetype": "text/x-python",
   "name": "python",
   "nbconvert_exporter": "python",
   "pygments_lexer": "ipython3",
   "version": "3.12.6"
  }
 },
 "nbformat": 4,
 "nbformat_minor": 2
}
