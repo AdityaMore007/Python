{
 "cells": [
  {
   "cell_type": "code",
   "execution_count": null,
   "id": "626b00a9",
   "metadata": {},
   "outputs": [
    {
     "data": {
      "text/plain": [
       "120"
      ]
     },
     "execution_count": 16,
     "metadata": {},
     "output_type": "execute_result"
    }
   ],
   "source": [
    "import sys\n",
    "# print(sys.getrecursionlimit())\n",
    "\n",
    "# sys.setrecursionlimit(100)\n",
    "\n",
    "def factorial(n):\n",
    "    if(n==1):\n",
    "        return 1\n",
    "    else:\n",
    "        return n*factorial(n-1)\n",
    "        '''\n",
    "        OR\n",
    "        small=factorial(n-1)\n",
    "        ans=n*small\n",
    "        return ans\n",
    "        '''\n",
    "\n",
    "factorial(5)"
   ]
  },
  {
   "cell_type": "code",
   "execution_count": 6,
   "id": "4be191e8",
   "metadata": {},
   "outputs": [
    {
     "name": "stdout",
     "output_type": "stream",
     "text": [
      "3000\n"
     ]
    }
   ],
   "source": [
    "# We can set recursion limit to our will....\n",
    "\n",
    "import sys \n",
    "print(sys.getrecursionlimit())\n",
    "\n"
   ]
  },
  {
   "cell_type": "markdown",
   "id": "086e42f3",
   "metadata": {},
   "source": [
    "Recursion was giving us maximum depth exceeded.\n",
    "we have to make sure that recursion stops somewhere and don't keep on going till Infinity."
   ]
  },
  {
   "cell_type": "code",
   "execution_count": null,
   "id": "8ffa470d",
   "metadata": {},
   "outputs": [],
   "source": []
  }
 ],
 "metadata": {
  "kernelspec": {
   "display_name": "Python 3",
   "language": "python",
   "name": "python3"
  },
  "language_info": {
   "codemirror_mode": {
    "name": "ipython",
    "version": 3
   },
   "file_extension": ".py",
   "mimetype": "text/x-python",
   "name": "python",
   "nbconvert_exporter": "python",
   "pygments_lexer": "ipython3",
   "version": "3.12.6"
  }
 },
 "nbformat": 4,
 "nbformat_minor": 5
}
