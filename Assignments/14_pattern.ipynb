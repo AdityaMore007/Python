{
 "cells": [
  {
   "cell_type": "markdown",
   "metadata": {},
   "source": [
    "## Problem Description:\n",
    "\n",
    "You are given an integer n. Your task is to return a hollow square pattern of size n x n made up of the character '*', represented as a list of strings. The hollow square has '*' on the border, and spaces ' ' in the middle (except for side lengths of 1 and 2).\n",
    "\n",
    "Example:\n",
    "\n",
    "Output: ['***', '* *', '***']\n",
    "\n",
    "Output: ['*****', '*   *', '*   *', '*   *', '*****']"
   ]
  },
  {
   "cell_type": "code",
   "execution_count": 16,
   "metadata": {},
   "outputs": [
    {
     "data": {
      "text/plain": [
       "['*****', '*   *', '*   *', '*   *', '*****']"
      ]
     },
     "execution_count": 16,
     "metadata": {},
     "output_type": "execute_result"
    }
   ],
   "source": [
    "def generate_hollow_square(n):\n",
    "    \n",
    "    pattern = []\n",
    "    if n == 1:\n",
    "        return ['*']\n",
    "            \n",
    "    pattern.append('*'*n)\n",
    "        \n",
    "    for i in range(n-2):\n",
    "        pattern.append('*' + ' '*(n-2) + '*')\n",
    "            \n",
    "    pattern.append('*'*n)\n",
    "        \n",
    "    return pattern\n",
    "\n",
    "\n",
    "generate_hollow_square(5)\n"
   ]
  },
  {
   "cell_type": "code",
   "execution_count": 95,
   "metadata": {},
   "outputs": [
    {
     "data": {
      "text/plain": [
       "['****', '****', '****']"
      ]
     },
     "execution_count": 95,
     "metadata": {},
     "output_type": "execute_result"
    }
   ],
   "source": [
    "def generate_rectangle(n, m):\n",
    "\n",
    "    pattern = [] \n",
    "    # if( m>n ):\n",
    "    for j in range(n):\n",
    "        pattern.append(('*' * m))\n",
    "        # for i in range(n):\n",
    "        #     pattern.append(row)\n",
    "    return pattern\n",
    "    \n",
    "    # elif(n>m):\n",
    "        \n",
    "    #     for i in range(n):\n",
    "    #         pattern.append('*' * m)\n",
    "    #     return pattern\n",
    "            \n",
    "generate_rectangle(3,4)"
   ]
  },
  {
   "cell_type": "markdown",
   "metadata": {},
   "source": [
    "#### Check for anagrams\n",
    "Problem Description:\n",
    "\n",
    "You are given two strings s and t. Your task is to determine if string t is an anagram of string s. An anagram is a word or phrase formed by rearranging the characters of a different word or phrase, using all the original characters exactly once."
   ]
  },
  {
   "cell_type": "code",
   "execution_count": null,
   "metadata": {},
   "outputs": [],
   "source": [
    "def is_anagram(s, t):"
   ]
  }
 ],
 "metadata": {
  "kernelspec": {
   "display_name": "Python 3",
   "language": "python",
   "name": "python3"
  },
  "language_info": {
   "codemirror_mode": {
    "name": "ipython",
    "version": 3
   },
   "file_extension": ".py",
   "mimetype": "text/x-python",
   "name": "python",
   "nbconvert_exporter": "python",
   "pygments_lexer": "ipython3",
   "version": "3.12.6"
  }
 },
 "nbformat": 4,
 "nbformat_minor": 2
}
