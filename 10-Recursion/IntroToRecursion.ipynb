{
 "cells": [
  {
   "cell_type": "code",
   "execution_count": 3,
   "id": "dde6c81e",
   "metadata": {},
   "outputs": [
    {
     "name": "stdout",
     "output_type": "stream",
     "text": [
      "5\n",
      "4\n",
      "3\n",
      "2\n",
      "1\n"
     ]
    }
   ],
   "source": [
    "def printFive(num):\n",
    "    print(num)\n",
    "    printFour(num-1)\n",
    "    \n",
    "def printFour(num):\n",
    "    print(num)\n",
    "    printThree(num-1)\n",
    "    \n",
    "def printThree(num):\n",
    "    print(num)\n",
    "    printTwo(num-1)\n",
    "    \n",
    "def printTwo(num):\n",
    "    print(num)\n",
    "    printOne(num-1)\n",
    "    \n",
    "def printOne(num):\n",
    "    print(num)\n",
    "    \n",
    "    \n",
    "printFive(5)\n",
    "    \n"
   ]
  },
  {
   "cell_type": "markdown",
   "id": "d2a69253",
   "metadata": {},
   "source": [
    "Here in the above Problem, we have defined various functions to print Numbers but it would be problematic since it take into memory but doesn't delete after the execution it would be in memory until the whole execution is done then afterwards it deletes one by one. "
   ]
  },
  {
   "cell_type": "markdown",
   "id": "72271282",
   "metadata": {},
   "source": [
    "1. We can call function from inside of another function\n",
    "2. A function stays in the memory until it gets fully executed.\n"
   ]
  },
  {
   "cell_type": "markdown",
   "id": "336cdeea",
   "metadata": {},
   "source": []
  }
 ],
 "metadata": {
  "kernelspec": {
   "display_name": "Python 3",
   "language": "python",
   "name": "python3"
  },
  "language_info": {
   "codemirror_mode": {
    "name": "ipython",
    "version": 3
   },
   "file_extension": ".py",
   "mimetype": "text/x-python",
   "name": "python",
   "nbconvert_exporter": "python",
   "pygments_lexer": "ipython3",
   "version": "3.12.6"
  }
 },
 "nbformat": 4,
 "nbformat_minor": 5
}
