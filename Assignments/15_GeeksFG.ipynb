{
 "cells": [
  {
   "cell_type": "markdown",
   "metadata": {},
   "source": [
    "##### Given a positive integer n, count the number of digits in n that divide n evenly (i.e., without leaving a remainder). Return the total number of such digits.\n",
    "\n",
    "A digit d of n divides n evenly if the remainder when n is divided by d is 0 (n % d == 0).\n",
    "Digits of n should be checked individually. If a digit is 0, it should be ignored because division by 0 is undefined.\n",
    "\n"
   ]
  },
  {
   "cell_type": "code",
   "execution_count": 13,
   "metadata": {},
   "outputs": [
    {
     "ename": "TypeError",
     "evalue": "Solution.__init__() missing 1 required positional argument: 'n'",
     "output_type": "error",
     "traceback": [
      "\u001b[1;31m---------------------------------------------------------------------------\u001b[0m",
      "\u001b[1;31mTypeError\u001b[0m                                 Traceback (most recent call last)",
      "Cell \u001b[1;32mIn[13], line 15\u001b[0m\n\u001b[0;32m     10\u001b[0m                 count\u001b[38;5;241m+\u001b[39m\u001b[38;5;241m=\u001b[39m\u001b[38;5;241m1\u001b[39m\n\u001b[0;32m     12\u001b[0m         \u001b[38;5;28;01mreturn\u001b[39;00m count\n\u001b[1;32m---> 15\u001b[0m counter \u001b[38;5;241m=\u001b[39m \u001b[43mSolution\u001b[49m\u001b[43m(\u001b[49m\u001b[43m)\u001b[49m\n\u001b[0;32m     16\u001b[0m \u001b[38;5;28mprint\u001b[39m(counter\u001b[38;5;241m.\u001b[39mcountdigits(\u001b[38;5;241m1012\u001b[39m))\n",
      "\u001b[1;31mTypeError\u001b[0m: Solution.__init__() missing 1 required positional argument: 'n'"
     ]
    }
   ],
   "source": [
    "class Solution:\n",
    "    def __init__(self,n):\n",
    "        self.n = n\n",
    "        \n",
    "    def countdigits(self):\n",
    "        count = 0\n",
    "        for i in str(self.n):\n",
    "            d = int(i)\n",
    "            if d!=0 and self.n%d == 0:\n",
    "                count+=1\n",
    "                \n",
    "        return count\n",
    "    \n",
    "\n",
    "counter = Solution()\n",
    "print(counter.countdigits(1012))"
   ]
  },
  {
   "cell_type": "code",
   "execution_count": null,
   "metadata": {},
   "outputs": [
    {
     "ename": "TypeError",
     "evalue": "Solution.EvenlyDivides() missing 1 required positional argument: 'n'",
     "output_type": "error",
     "traceback": [
      "\u001b[1;31m---------------------------------------------------------------------------\u001b[0m",
      "\u001b[1;31mTypeError\u001b[0m                                 Traceback (most recent call last)",
      "Cell \u001b[1;32mIn[16], line 12\u001b[0m\n\u001b[0;32m     10\u001b[0m         \u001b[38;5;28;01mreturn\u001b[39;00m count\n\u001b[0;32m     11\u001b[0m ob \u001b[38;5;241m=\u001b[39m Solution()\n\u001b[1;32m---> 12\u001b[0m result \u001b[38;5;241m=\u001b[39m \u001b[43mob\u001b[49m\u001b[38;5;241;43m.\u001b[39;49m\u001b[43mEvenlyDivides\u001b[49m\u001b[43m(\u001b[49m\u001b[38;5;241;43m1012\u001b[39;49m\u001b[43m)\u001b[49m\n\u001b[0;32m     13\u001b[0m \u001b[38;5;28mprint\u001b[39m(result)\n",
      "\u001b[1;31mTypeError\u001b[0m: Solution.EvenlyDivides() missing 1 required positional argument: 'n'"
     ]
    }
   ],
   "source": [
    "class Solution:\n",
    "    # @staticmethod\n",
    "    def EvenlyDivides(self,n):\n",
    "        count = 0\n",
    "        for i in str(n):\n",
    "            d = int(i)\n",
    "            if d!=0 and n%d==0:\n",
    "                count+=1\n",
    "                \n",
    "        return count\n"
   ]
  },
  {
   "cell_type": "code",
   "execution_count": null,
   "metadata": {},
   "outputs": [],
   "source": []
  }
 ],
 "metadata": {
  "kernelspec": {
   "display_name": "Python 3",
   "language": "python",
   "name": "python3"
  },
  "language_info": {
   "codemirror_mode": {
    "name": "ipython",
    "version": 3
   },
   "file_extension": ".py",
   "mimetype": "text/x-python",
   "name": "python",
   "nbconvert_exporter": "python",
   "pygments_lexer": "ipython3",
   "version": "3.12.6"
  }
 },
 "nbformat": 4,
 "nbformat_minor": 2
}
