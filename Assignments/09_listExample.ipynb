{
 "cells": [
  {
   "cell_type": "markdown",
   "metadata": {},
   "source": [
    "#### 1. Manage a To-Do List\n",
    "Create a To-Do List to keep track of Tasks."
   ]
  },
  {
   "cell_type": "code",
   "execution_count": 3,
   "metadata": {},
   "outputs": [
    {
     "name": "stdout",
     "output_type": "stream",
     "text": [
      "Don't forget to pay the utility bills\n",
      "To Do list remaining:\n",
      "-Buy groceries\n",
      "-Pay Bills\n",
      "-Schedule Meeting\n",
      "-Go for a run\n"
     ]
    }
   ],
   "source": [
    "to_do_lists = [\"Buy groceries\",\"Clean the House\",\"Pay Bills\"]\n",
    "\n",
    "## Adding to task\n",
    "\n",
    "to_do_lists.append(\"Schedule Meeting\")\n",
    "to_do_lists.append(\"Go for a run\")\n",
    "\n",
    "## removing a completed task\n",
    "\n",
    "to_do_lists.remove(\"Clean the House\")\n",
    "\n",
    "## checking if task is in the list\n",
    "if \"Pay Bills\" in to_do_lists:\n",
    "    print(\"Don't forget to pay the utility bills\")\n",
    "\n",
    "print(\"To Do list remaining:\")\n",
    "for task in to_do_lists:\n",
    "    print(f\"-{task}\")"
   ]
  },
  {
   "cell_type": "markdown",
   "metadata": {},
   "source": [
    "### 2. Calculating Average,Max,Min marks "
   ]
  },
  {
   "cell_type": "code",
   "execution_count": 6,
   "metadata": {},
   "outputs": [
    {
     "name": "stdout",
     "output_type": "stream",
     "text": [
      "Average Grade: 88.00\n",
      "Highest Grade:95\n",
      "Lowest Grade: 78\n"
     ]
    }
   ],
   "source": [
    "grades = [85,92,78,90,88]\n",
    "\n",
    "# Adding a new grade\n",
    "grades.append(95)\n",
    "\n",
    "# calculating the average grade\n",
    "average_grade = sum(grades)/len(grades)\n",
    "print(f\"Average Grade: {average_grade:.2f}\")\n",
    "\n",
    "# Finding the Highest and Lowest grades\n",
    "highest_grade = max(grades)\n",
    "lowest_grade = min(grades)\n",
    "\n",
    "print(f\"Highest Grade:{highest_grade}\")\n",
    "print(f\"Lowest Grade: {lowest_grade}\") "
   ]
  },
  {
   "cell_type": "markdown",
   "metadata": {},
   "source": [
    "#### 3. Managing an Inventory\n",
    "\n",
    "Use list to manage inventory items in store."
   ]
  },
  {
   "cell_type": "code",
   "execution_count": 8,
   "metadata": {},
   "outputs": [
    {
     "name": "stdout",
     "output_type": "stream",
     "text": [
      "['apple', 'oranges', 'grapes', 'strawberries']\n",
      "oranges are in Stock.\n"
     ]
    }
   ],
   "source": [
    "inventory = [\"apple\",\"bananas\",\"oranges\",\"grapes\"]\n",
    "\n",
    "## Adding a new items\n",
    "inventory.append(\"strawberries\")\n",
    "\n",
    "# Removing an element that is out of stock\n",
    "inventory.remove(\"bananas\")\n",
    "\n",
    "print(inventory)\n",
    "\n",
    "# Checking if an item is in stock\n",
    "item = \"oranges\"\n",
    "if item in inventory:\n",
    "    print(f\"{item} are in Stock.\")\n",
    "else:\n",
    "    print(f\"{item} is not in Stock.\")"
   ]
  },
  {
   "cell_type": "code",
   "execution_count": 3,
   "metadata": {},
   "outputs": [
    {
     "name": "stdout",
     "output_type": "stream",
     "text": [
      "inventory list:\n",
      "-apple\n",
      "-bananas\n",
      "-oranges\n",
      "-grapes\n"
     ]
    }
   ],
   "source": [
    "inventory = [\"apple\",\"bananas\",\"oranges\",\"grapes\"]\n",
    "print(\"inventory list:\")\n",
    "for item in inventory:\n",
    "    print(f\"-{item}\")"
   ]
  },
  {
   "cell_type": "markdown",
   "metadata": {},
   "source": [
    "#### 4. Collecting User Feedback"
   ]
  },
  {
   "cell_type": "code",
   "execution_count": 2,
   "metadata": {},
   "outputs": [
    {
     "name": "stdout",
     "output_type": "stream",
     "text": [
      "Positive_Feedback_count: 2\n"
     ]
    }
   ],
   "source": [
    "feedback = [\"Great Service\",\"Very Satisfied\",\"Could be Better\",\"Excellant experience\"]\n",
    "\n",
    "# Adding new feedback\n",
    "feedback.append(\"Not happy with Customer\")\n",
    "\n",
    "positive_feedback = sum(1 for comment in feedback if \"Great\" in comment or \"Excellant\" in comment)\n",
    "print(f\"Positive_Feedback_count: {positive_feedback}\")"
   ]
  },
  {
   "cell_type": "code",
   "execution_count": null,
   "metadata": {},
   "outputs": [],
   "source": []
  }
 ],
 "metadata": {
  "kernelspec": {
   "display_name": "Python 3",
   "language": "python",
   "name": "python3"
  },
  "language_info": {
   "codemirror_mode": {
    "name": "ipython",
    "version": 3
   },
   "file_extension": ".py",
   "mimetype": "text/x-python",
   "name": "python",
   "nbconvert_exporter": "python",
   "pygments_lexer": "ipython3",
   "version": "3.12.6"
  }
 },
 "nbformat": 4,
 "nbformat_minor": 2
}
