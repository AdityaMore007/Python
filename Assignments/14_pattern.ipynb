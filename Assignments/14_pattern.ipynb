{
 "cells": [
  {
   "cell_type": "markdown",
   "metadata": {},
   "source": [
    "#### exmaple1: square pattern of '*' of side n as list of strings."
   ]
  },
  {
   "cell_type": "code",
   "execution_count": 2,
   "metadata": {},
   "outputs": [
    {
     "data": {
      "text/plain": [
       "['*****', '*****', '*****', '*****', '*****']"
      ]
     },
     "execution_count": 2,
     "metadata": {},
     "output_type": "execute_result"
    }
   ],
   "source": [
    "def generate_pattern(n):\n",
    "    pattern = []\n",
    "    for i in range(n):\n",
    "        pattern.append('*' * n)\n",
    "    return pattern\n",
    "\n",
    "generate_pattern(5)"
   ]
  },
  {
   "cell_type": "markdown",
   "metadata": {},
   "source": [
    "### Right Angled Triangle\n",
    "Problem Description:\n",
    "\n",
    "You are given an integer n. Your task is to return a right-angled triangle pattern of '*' where each side has n characters, represented as a list of strings. The triangle has '*' characters, starting with 1 star in the first row, 2 stars in the second row, and so on until the last row has n stars.\n",
    "\n"
   ]
  },
  {
   "cell_type": "code",
   "execution_count": 4,
   "metadata": {},
   "outputs": [
    {
     "data": {
      "text/plain": [
       "['*', '**', '***', '****', '*****']"
      ]
     },
     "execution_count": 4,
     "metadata": {},
     "output_type": "execute_result"
    }
   ],
   "source": [
    "def generate_triangle(n):\n",
    "    \n",
    "    pattern = []\n",
    "    \n",
    "    for i in range(1,n+1):\n",
    "        pattern.append('*' * i)\n",
    "        \n",
    "    return pattern\n",
    "\n",
    "generate_triangle(5)"
   ]
  },
  {
   "cell_type": "markdown",
   "metadata": {},
   "source": [
    "### Inverted Right Angled Triangle\n",
    "Problem Description:\n",
    "\n",
    "You are given an integer n. Your task is to return an inverted right-angled triangle pattern of '*' where each side has n characters, represented as a list of strings. The first row should have n stars, the second row n-1 stars, and so on, until the last row has 1 star."
   ]
  },
  {
   "cell_type": "code",
   "execution_count": 2,
   "metadata": {},
   "outputs": [
    {
     "data": {
      "text/plain": [
       "['***', '**', '*']"
      ]
     },
     "execution_count": 2,
     "metadata": {},
     "output_type": "execute_result"
    }
   ],
   "source": [
    "def generate_triangle(n):\n",
    "    # [ '***' , '**' , '*' ] for n=3\n",
    "    pattern = []\n",
    "    for i in range(n,0,-1):\n",
    "        pattern.append('*' * i) \n",
    "        # pattern.reverse()       \n",
    "    return pattern\n",
    "\n",
    "generate_triangle(3)\n"
   ]
  },
  {
   "cell_type": "markdown",
   "metadata": {},
   "source": [
    "### Pyramid Pattern\n",
    "Problem Description:\n",
    "\n",
    "You are given an integer n. Your task is to return a pyramid pattern of '*' where each side has n rows, represented as a list of strings. The pyramid is centered, with 1 star in the first row, 3 stars in the second row, and so on, increasing by 2 stars per row until the base row has 2n - 1 stars."
   ]
  },
  {
   "cell_type": "code",
   "execution_count": 23,
   "metadata": {},
   "outputs": [
    {
     "data": {
      "text/plain": [
       "['*', '***', '*****', '*******', '*********']"
      ]
     },
     "execution_count": 23,
     "metadata": {},
     "output_type": "execute_result"
    }
   ],
   "source": [
    "def generate_pyramid(n):\n",
    "    # [ '*' , '***' , '*****' ]\n",
    "    pattern = []\n",
    "    \n",
    "    for i in range(n+1):\n",
    "        odd = 2 * i - 1\n",
    "        if (odd < 0):\n",
    "            pass\n",
    "        else:\n",
    "            pattern.append('*' * odd)\n",
    "        \n",
    "    return pattern\n",
    "generate_pyramid(5)"
   ]
  },
  {
   "cell_type": "code",
   "execution_count": 34,
   "metadata": {},
   "outputs": [
    {
     "data": {
      "text/plain": [
       "['  *  ', ' *** ', '*****']"
      ]
     },
     "execution_count": 34,
     "metadata": {},
     "output_type": "execute_result"
    }
   ],
   "source": [
    "def gen_pyramid(n):\n",
    "    pattern = []\n",
    "    \n",
    "    for i in range(1,n+1):\n",
    "        \n",
    "        \n",
    "        spaces = ' ' * (n-i)\n",
    "        patt = '*' * (2 * i - 1)  \n",
    "        pattern.append(spaces+patt+spaces)\n",
    "    return pattern\n",
    "gen_pyramid(3)"
   ]
  },
  {
   "cell_type": "markdown",
   "metadata": {},
   "source": [
    "### Functions Problems\n"
   ]
  },
  {
   "cell_type": "markdown",
   "metadata": {},
   "source": [
    "##### Celsius to Farenheit"
   ]
  },
  {
   "cell_type": "code",
   "execution_count": 1,
   "metadata": {},
   "outputs": [
    {
     "data": {
      "text/plain": [
       "89.6"
      ]
     },
     "execution_count": 1,
     "metadata": {},
     "output_type": "execute_result"
    }
   ],
   "source": [
    "def celsius_to_fahrenheit(C):\n",
    "    temp = (9/5 * C) + 32\n",
    "     \n",
    "    return temp\n",
    "celsius_to_fahrenheit(32)"
   ]
  },
  {
   "cell_type": "markdown",
   "metadata": {},
   "source": [
    "##### Area of Rectangle"
   ]
  },
  {
   "cell_type": "code",
   "execution_count": 13,
   "metadata": {},
   "outputs": [
    {
     "name": "stdout",
     "output_type": "stream",
     "text": [
      "None\n"
     ]
    }
   ],
   "source": [
    "\n",
    "\n",
    "def Area(l,b):\n",
    "    if (l>b or b>l):\n",
    "        area_rectangle = (l * b)\n",
    "        return area_rectangle\n",
    "    else:\n",
    "        return None\n",
    "\n",
    "\n",
    "print(Area(10,10))"
   ]
  },
  {
   "cell_type": "markdown",
   "metadata": {},
   "source": [
    "#### Number of Rounds of Lift\n",
    "Problem Description:\n",
    "\n",
    "You are given n, the total number of people, and capacity, the maximum number of people the lift can carry at a time. All people want to go from the ground floor to the top floor. Your task is to calculate the number of rounds the lift has to make to transport all the people to the top floor.\n",
    "\n"
   ]
  },
  {
   "cell_type": "code",
   "execution_count": 16,
   "metadata": {},
   "outputs": [
    {
     "data": {
      "text/plain": [
       "5"
      ]
     },
     "execution_count": 16,
     "metadata": {},
     "output_type": "execute_result"
    }
   ],
   "source": [
    "def lift_rounds(n,capacity):\n",
    "    \n",
    "    comp = (n/capacity)\n",
    "    return round(comp) + 1\n",
    "            \n",
    "            \n",
    "lift_rounds(13,3)\n",
    "            \n",
    "            \n",
    "     "
   ]
  },
  {
   "cell_type": "markdown",
   "metadata": {},
   "source": [
    "##### \n",
    "Line Equation\n",
    "Problem Description:\n",
    "\n",
    "You are given the slope m and the y-intercept b of a line, along with a value x. Your task is to calculate and return the value of y using the equation of a line in slope-intercept form:"
   ]
  },
  {
   "cell_type": "code",
   "execution_count": 17,
   "metadata": {},
   "outputs": [
    {
     "data": {
      "text/plain": [
       "11"
      ]
     },
     "execution_count": 17,
     "metadata": {},
     "output_type": "execute_result"
    }
   ],
   "source": [
    "def calculate_y(slope, intercept, x):\n",
    "    y = slope * x + intercept\n",
    "    return y\n",
    "\n",
    "calculate_y(2,3,4)"
   ]
  },
  {
   "cell_type": "markdown",
   "metadata": {},
   "source": [
    "#### \n",
    "Sum of List Elements\n",
    "Problem Description\n",
    "\n",
    "Sum of List Elements\n",
    "\n",
    "Write a Python function that calculates the sum of all elements in a given list of integers."
   ]
  },
  {
   "cell_type": "code",
   "execution_count": 9,
   "metadata": {},
   "outputs": [
    {
     "data": {
      "text/plain": [
       "10"
      ]
     },
     "execution_count": 9,
     "metadata": {},
     "output_type": "execute_result"
    }
   ],
   "source": [
    "method:1\n",
    "\n",
    "# def sum_list(numbers):\n",
    "#     add = (sum(numbers))\n",
    "#     return add\n",
    "\n",
    "# sum_list([1,2,3,4,5,6])\n",
    "\n",
    "# method 2:\n",
    "    \n",
    "def sumi(numbers):\n",
    "    sum = 0\n",
    "    \n",
    "    for i in numbers:\n",
    "        sum += i\n",
    "        \n",
    "    return sum\n",
    "\n",
    "sumi([1,2,3,4])\n",
    "        \n"
   ]
  },
  {
   "cell_type": "markdown",
   "metadata": {},
   "source": [
    "#### \n",
    "Largest Element in a List:\n",
    "Find the Largest Element in a List\n",
    "\n",
    "Write a Python function that finds and returns the largest element in a given list of integers."
   ]
  },
  {
   "cell_type": "code",
   "execution_count": 1,
   "metadata": {},
   "outputs": [
    {
     "data": {
      "text/plain": [
       "20"
      ]
     },
     "execution_count": 1,
     "metadata": {},
     "output_type": "execute_result"
    }
   ],
   "source": [
    "# method:1\n",
    "# def find_largest(numbers):\n",
    "#     maximum = max(numbers)\n",
    "#     return maximum\n",
    "\n",
    "# find_largest([1,2,5,4,8,10])\n",
    "\n",
    "#method:2\n",
    "def largest(numbers):\n",
    "    if not numbers:\n",
    "        return None\n",
    "    \n",
    "    largest = numbers[0]\n",
    "    \n",
    "    for i in numbers[1:]:\n",
    "        if i > largest:\n",
    "            largest = i\n",
    "    return largest\n",
    "\n",
    "largest([1,2,3,5,6,9,7,12,15,20])\n",
    "    "
   ]
  },
  {
   "cell_type": "markdown",
   "metadata": {},
   "source": [
    "#### \n",
    "Remove Duplicate in a List:\n",
    "Remove Duplicates from a List\n",
    "\n",
    "You are given a list of integers. Write a Python program that removes any duplicate elements from the list and returns a new list with only unique elements. The order of elements in the list should be maintained."
   ]
  },
  {
   "cell_type": "code",
   "execution_count": 6,
   "metadata": {},
   "outputs": [
    {
     "data": {
      "text/plain": [
       "[1, 2, 3, 6, 4, 5]"
      ]
     },
     "execution_count": 6,
     "metadata": {},
     "output_type": "execute_result"
    }
   ],
   "source": [
    "def remove_dup(lst):\n",
    "    unique_list = []\n",
    "    for item in lst:\n",
    "        if item not in unique_list:\n",
    "            unique_list.append(item)\n",
    "    return unique_list\n",
    "remove_dup([1,2,3,2,6,2,4,5,6])\n"
   ]
  },
  {
   "cell_type": "code",
   "execution_count": 45,
   "metadata": {},
   "outputs": [
    {
     "data": {
      "text/plain": [
       "True"
      ]
     },
     "execution_count": 45,
     "metadata": {},
     "output_type": "execute_result"
    }
   ],
   "source": [
    "def remove_dict(ls):\n",
    "    seen = []\n",
    "    for num in ls:\n",
    "        if num in seen:\n",
    "            return False\n",
    "        seen.append(num)\n",
    "        \n",
    "    return True\n",
    "\n",
    "remove_dict([1,2,3,4,5,6])\n",
    "            "
   ]
  },
  {
   "cell_type": "markdown",
   "metadata": {},
   "source": [
    "#### \n",
    "Program to Reverse a List:\n",
    "Reverse a List (Non-Slicing Approach)\n",
    "\n",
    "You are given a list of integers. Write a Python program that reverses the list without using slicing (lst[::-1]). The program should return the reversed list."
   ]
  },
  {
   "cell_type": "code",
   "execution_count": 46,
   "metadata": {},
   "outputs": [
    {
     "data": {
      "text/plain": [
       "[5, 4, 3, 2, 1]"
      ]
     },
     "execution_count": 46,
     "metadata": {},
     "output_type": "execute_result"
    }
   ],
   "source": [
    "# def rev(lst):\n",
    "#     lst.reverse()\n",
    "#     return lst\n",
    "\n",
    "# rev([1,2,3,4,5])"
   ]
  },
  {
   "cell_type": "code",
   "execution_count": 52,
   "metadata": {},
   "outputs": [
    {
     "ename": "TypeError",
     "evalue": "'builtin_function_or_method' object is not subscriptable",
     "output_type": "error",
     "traceback": [
      "\u001b[1;31m---------------------------------------------------------------------------\u001b[0m",
      "\u001b[1;31mTypeError\u001b[0m                                 Traceback (most recent call last)",
      "Cell \u001b[1;32mIn[52], line 12\u001b[0m\n\u001b[0;32m      9\u001b[0m         end \u001b[38;5;241m-\u001b[39m\u001b[38;5;241m=\u001b[39m \u001b[38;5;241m1\u001b[39m\n\u001b[0;32m     10\u001b[0m     \u001b[38;5;28;01mreturn\u001b[39;00m lst\n\u001b[1;32m---> 12\u001b[0m \u001b[43mrev\u001b[49m\u001b[43m(\u001b[49m\u001b[43m[\u001b[49m\u001b[38;5;241;43m1\u001b[39;49m\u001b[43m,\u001b[49m\u001b[38;5;241;43m2\u001b[39;49m\u001b[43m,\u001b[49m\u001b[38;5;241;43m3\u001b[39;49m\u001b[43m,\u001b[49m\u001b[38;5;241;43m4\u001b[39;49m\u001b[43m,\u001b[49m\u001b[38;5;241;43m5\u001b[39;49m\u001b[43m]\u001b[49m\u001b[43m)\u001b[49m\n",
      "Cell \u001b[1;32mIn[52], line 6\u001b[0m, in \u001b[0;36mrev\u001b[1;34m(lst)\u001b[0m\n\u001b[0;32m      3\u001b[0m end \u001b[38;5;241m=\u001b[39m \u001b[38;5;28mlen\u001b[39m(lst) \u001b[38;5;241m-\u001b[39m \u001b[38;5;241m1\u001b[39m\n\u001b[0;32m      5\u001b[0m \u001b[38;5;28;01mif\u001b[39;00m start \u001b[38;5;241m<\u001b[39m end:\n\u001b[1;32m----> 6\u001b[0m     \u001b[38;5;28mlen\u001b[39m[start],\u001b[38;5;28mlen\u001b[39m[end] \u001b[38;5;241m=\u001b[39m \u001b[38;5;28;43mlen\u001b[39;49m\u001b[43m[\u001b[49m\u001b[43mend\u001b[49m\u001b[43m]\u001b[49m,\u001b[38;5;28mlen\u001b[39m[start]\n\u001b[0;32m      8\u001b[0m     start \u001b[38;5;241m+\u001b[39m\u001b[38;5;241m=\u001b[39m \u001b[38;5;241m1\u001b[39m\n\u001b[0;32m      9\u001b[0m     end \u001b[38;5;241m-\u001b[39m\u001b[38;5;241m=\u001b[39m \u001b[38;5;241m1\u001b[39m\n",
      "\u001b[1;31mTypeError\u001b[0m: 'builtin_function_or_method' object is not subscriptable"
     ]
    }
   ],
   "source": [
    "def rev(lst):\n",
    "    start = 0\n",
    "    end = len(lst) - 1\n",
    "    \n",
    "    if start < end:\n",
    "        len[start],len[end] = len[end],len[start]\n",
    "        \n",
    "        start += 1\n",
    "        end -= 1\n",
    "    return lst\n",
    "        \n",
    "rev([1,2,3,4,5])\n",
    "    "
   ]
  },
  {
   "cell_type": "markdown",
   "metadata": {},
   "source": [
    "#### Count Number of Odd and Even Elements in a List:\n",
    "Count Even and Odd Numbers in a List\n",
    "\n",
    "You are given a list of integers. Write a Python program that counts and returns the number of even and odd numbers in the list."
   ]
  },
  {
   "cell_type": "code",
   "execution_count": 32,
   "metadata": {},
   "outputs": [
    {
     "data": {
      "text/plain": [
       "(2, 3)"
      ]
     },
     "execution_count": 32,
     "metadata": {},
     "output_type": "execute_result"
    }
   ],
   "source": [
    "def count(lst):\n",
    "    \n",
    "    even_count= 0\n",
    "    odd_count = 0\n",
    "    for num in lst:\n",
    "        if num%2==0:\n",
    "            even_count +=1  \n",
    "        else:\n",
    "            odd_count +=1\n",
    "            \n",
    "    return even_count,odd_count\n",
    "    \n",
    "count([1,2,3,4,5])"
   ]
  },
  {
   "cell_type": "markdown",
   "metadata": {},
   "source": [
    "#### Find Maximum Difference Between Two Consecutive Elements (Brute Force Approach)\n",
    "\n",
    "You are given a list of integers. Write a Python program to find the maximum difference between two consecutive elements in the list using a brute-force approach. The difference is defined as the absolute value of the difference between two consecutive elements."
   ]
  },
  {
   "cell_type": "code",
   "execution_count": 81,
   "metadata": {},
   "outputs": [
    {
     "data": {
      "text/plain": [
       "7"
      ]
     },
     "execution_count": 81,
     "metadata": {},
     "output_type": "execute_result"
    }
   ],
   "source": [
    "def difference(lst):\n",
    "    # max_diff = 0\n",
    "    set = []\n",
    "    for i in range(0,len(lst)):\n",
    "        set1 = abs(lst[i] - lst[i-1])\n",
    "        set.append(set1)\n",
    "        # if set > max_diff:\n",
    "        #     max_diff = set\n",
    "    return max(set)\n",
    "\n",
    "difference([1,7,3,10,5])"
   ]
  },
  {
   "cell_type": "code",
   "execution_count": null,
   "metadata": {},
   "outputs": [],
   "source": []
  }
 ],
 "metadata": {
  "kernelspec": {
   "display_name": "Python 3",
   "language": "python",
   "name": "python3"
  },
  "language_info": {
   "codemirror_mode": {
    "name": "ipython",
    "version": 3
   },
   "file_extension": ".py",
   "mimetype": "text/x-python",
   "name": "python",
   "nbconvert_exporter": "python",
   "pygments_lexer": "ipython3",
   "version": "3.12.6"
  }
 },
 "nbformat": 4,
 "nbformat_minor": 2
}
