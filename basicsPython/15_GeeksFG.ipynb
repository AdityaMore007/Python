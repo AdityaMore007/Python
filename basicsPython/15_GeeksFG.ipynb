{
 "cells": [
  {
   "cell_type": "markdown",
   "metadata": {},
   "source": [
    "##### Given a positive integer n, count the number of digits in n that divide n evenly (i.e., without leaving a remainder). Return the total number of such digits.\n",
    "\n",
    "A digit d of n divides n evenly if the remainder when n is divided by d is 0 (n % d == 0).\n",
    "Digits of n should be checked individually. If a digit is 0, it should be ignored because division by 0 is undefined.\n",
    "\n"
   ]
  },
  {
   "cell_type": "code",
   "execution_count": 1,
   "metadata": {},
   "outputs": [
    {
     "name": "stdout",
     "output_type": "stream",
     "text": [
      "2\n"
     ]
    }
   ],
   "source": [
    "class DigitDividerCounter:\n",
    "    def __init__(self,n):\n",
    "        self.n = n\n",
    "        \n",
    "    def evenlyDivides(self):\n",
    "        count = 0\n",
    "        \n",
    "        for i in str(self.n):\n",
    "            d = int(i)\n",
    "            if d != 0 or self.n%d == 0:\n",
    "                count+=1\n",
    "        return count\n",
    "    \n",
    "number = input(\"Enter the Number:\")\n",
    "counter = DigitDividerCounter(number)\n",
    "print(counter.evenlyDivides())"
   ]
  },
  {
   "cell_type": "code",
   "execution_count": null,
   "metadata": {},
   "outputs": [
    {
     "ename": "TypeError",
     "evalue": "unsupported operand type(s) for ** or pow(): 'str' and 'int'",
     "output_type": "error",
     "traceback": [
      "\u001b[1;31m---------------------------------------------------------------------------\u001b[0m",
      "\u001b[1;31mTypeError\u001b[0m                                 Traceback (most recent call last)",
      "Cell \u001b[1;32mIn[8], line 7\u001b[0m\n\u001b[0;32m      5\u001b[0m         res \u001b[38;5;241m=\u001b[39m res \u001b[38;5;241m+\u001b[39m res2\n\u001b[0;32m      6\u001b[0m     \u001b[38;5;28;01mreturn\u001b[39;00m res\n\u001b[1;32m----> 7\u001b[0m \u001b[43mnumb\u001b[49m\u001b[43m(\u001b[49m\u001b[38;5;241;43m123\u001b[39;49m\u001b[43m)\u001b[49m\n",
      "Cell \u001b[1;32mIn[8], line 4\u001b[0m, in \u001b[0;36mnumb\u001b[1;34m(n)\u001b[0m\n\u001b[0;32m      2\u001b[0m res2 \u001b[38;5;241m=\u001b[39m \u001b[38;5;241m0\u001b[39m\n\u001b[0;32m      3\u001b[0m \u001b[38;5;28;01mfor\u001b[39;00m i \u001b[38;5;129;01min\u001b[39;00m \u001b[38;5;28mstr\u001b[39m(n):\n\u001b[1;32m----> 4\u001b[0m     res \u001b[38;5;241m=\u001b[39m \u001b[43mi\u001b[49m\u001b[38;5;241;43m*\u001b[39;49m\u001b[38;5;241;43m*\u001b[39;49m\u001b[38;5;241;43m3\u001b[39;49m\n\u001b[0;32m      5\u001b[0m     res \u001b[38;5;241m=\u001b[39m res \u001b[38;5;241m+\u001b[39m res2\n\u001b[0;32m      6\u001b[0m \u001b[38;5;28;01mreturn\u001b[39;00m res\n",
      "\u001b[1;31mTypeError\u001b[0m: unsupported operand type(s) for ** or pow(): 'str' and 'int'"
     ]
    }
   ],
   "source": [
    "def numb(n):\n",
    "    res2 = 0\n",
    "    for i in str(n):\n",
    "        res = i**3\n",
    "        \n",
    "    return res\n",
    "numb(123)"
   ]
  },
  {
   "cell_type": "code",
   "execution_count": 10,
   "metadata": {},
   "outputs": [
    {
     "name": "stdout",
     "output_type": "stream",
     "text": [
      "250\n"
     ]
    }
   ],
   "source": [
    "for i in range(6):\n",
    "    res = i**3\n",
    "    res += res\n",
    "print(res)"
   ]
  },
  {
   "cell_type": "code",
   "execution_count": 17,
   "metadata": {},
   "outputs": [
    {
     "data": {
      "text/plain": [
       "True"
      ]
     },
     "execution_count": 17,
     "metadata": {},
     "output_type": "execute_result"
    }
   ],
   "source": [
    "def numb(n):\n",
    "    \n",
    "    stored_num = 0\n",
    "    original_num = n\n",
    "    \n",
    "    while n!=0:\n",
    "        digit = n%10\n",
    "        stored_num += digit**3\n",
    "        n = n//10\n",
    "    if stored_num == original_num:\n",
    "        return True \n",
    "    else:\n",
    "        return False\n",
    "numb(153)\n",
    "    "
   ]
  },
  {
   "cell_type": "code",
   "execution_count": 11,
   "metadata": {},
   "outputs": [
    {
     "data": {
      "text/plain": [
       "[1]"
      ]
     },
     "execution_count": 11,
     "metadata": {},
     "output_type": "execute_result"
    }
   ],
   "source": [
    "from math import sqrt\n",
    "def sumOfDivisors(n):\n",
    "        # number  = int(n)\n",
    "        \n",
    "        sum = []\n",
    "        for digit in range(1,int(sqrt(n))):\n",
    "            if (n%digit == 0):\n",
    "                sum.append(digit)\n",
    "                 \n",
    "            elif n%digit != digit:\n",
    "                sum.append(n//digit)\n",
    "                \n",
    "        return sum\n",
    "    \n",
    "sumOfDivisors(4)"
   ]
  },
  {
   "cell_type": "code",
   "execution_count": 3,
   "metadata": {},
   "outputs": [
    {
     "data": {
      "text/plain": [
       "10"
      ]
     },
     "execution_count": 3,
     "metadata": {},
     "output_type": "execute_result"
    }
   ],
   "source": [
    "def printNos(n):\n",
    "        if n == 0:\n",
    "            return 0\n",
    "            \n",
    "        return n + printNos(n-1)\n",
    "    \n",
    "printNos(4)"
   ]
  },
  {
   "cell_type": "code",
   "execution_count": null,
   "metadata": {},
   "outputs": [],
   "source": [
    "def countWord(n):\n",
    "    "
   ]
  }
 ],
 "metadata": {
  "kernelspec": {
   "display_name": "Python 3",
   "language": "python",
   "name": "python3"
  },
  "language_info": {
   "codemirror_mode": {
    "name": "ipython",
    "version": 3
   },
   "file_extension": ".py",
   "mimetype": "text/x-python",
   "name": "python",
   "nbconvert_exporter": "python",
   "pygments_lexer": "ipython3",
   "version": "3.12.6"
  }
 },
 "nbformat": 4,
 "nbformat_minor": 2
}
