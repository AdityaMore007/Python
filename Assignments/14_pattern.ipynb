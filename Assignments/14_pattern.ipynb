{
 "cells": [
  {
   "cell_type": "markdown",
   "metadata": {},
   "source": [
    "#### exmaple1: square pattern of '*' of side n as list of strings."
   ]
  },
  {
   "cell_type": "code",
   "execution_count": 2,
   "metadata": {},
   "outputs": [
    {
     "data": {
      "text/plain": [
       "['*****', '*****', '*****', '*****', '*****']"
      ]
     },
     "execution_count": 2,
     "metadata": {},
     "output_type": "execute_result"
    }
   ],
   "source": [
    "def generate_pattern(n):\n",
    "    pattern = []\n",
    "    for i in range(n):\n",
    "        pattern.append('*' * n)\n",
    "    return pattern\n",
    "\n",
    "generate_pattern(5)"
   ]
  },
  {
   "cell_type": "markdown",
   "metadata": {},
   "source": [
    "### Right Angled Triangle\n",
    "Problem Description:\n",
    "\n",
    "You are given an integer n. Your task is to return a right-angled triangle pattern of '*' where each side has n characters, represented as a list of strings. The triangle has '*' characters, starting with 1 star in the first row, 2 stars in the second row, and so on until the last row has n stars.\n",
    "\n"
   ]
  },
  {
   "cell_type": "code",
   "execution_count": 4,
   "metadata": {},
   "outputs": [
    {
     "data": {
      "text/plain": [
       "['*', '**', '***', '****', '*****']"
      ]
     },
     "execution_count": 4,
     "metadata": {},
     "output_type": "execute_result"
    }
   ],
   "source": [
    "def generate_triangle(n):\n",
    "    \n",
    "    pattern = []\n",
    "    \n",
    "    for i in range(1,n+1):\n",
    "        pattern.append('*' * i)\n",
    "        \n",
    "    return pattern\n",
    "\n",
    "generate_triangle(5)"
   ]
  },
  {
   "cell_type": "markdown",
   "metadata": {},
   "source": [
    "### Inverted Right Angled Triangle\n",
    "Problem Description:\n",
    "\n",
    "You are given an integer n. Your task is to return an inverted right-angled triangle pattern of '*' where each side has n characters, represented as a list of strings. The first row should have n stars, the second row n-1 stars, and so on, until the last row has 1 star."
   ]
  },
  {
   "cell_type": "code",
   "execution_count": 2,
   "metadata": {},
   "outputs": [
    {
     "data": {
      "text/plain": [
       "['***', '**', '*']"
      ]
     },
     "execution_count": 2,
     "metadata": {},
     "output_type": "execute_result"
    }
   ],
   "source": [
    "def generate_triangle(n):\n",
    "    # [ '***' , '**' , '*' ] for n=3\n",
    "    pattern = []\n",
    "    for i in range(n,0,-1):\n",
    "        pattern.append('*' * i) \n",
    "        # pattern.reverse()       \n",
    "    return pattern\n",
    "\n",
    "generate_triangle(3)\n"
   ]
  },
  {
   "cell_type": "markdown",
   "metadata": {},
   "source": [
    "### Pyramid Pattern\n",
    "Problem Description:\n",
    "\n",
    "You are given an integer n. Your task is to return a pyramid pattern of '*' where each side has n rows, represented as a list of strings. The pyramid is centered, with 1 star in the first row, 3 stars in the second row, and so on, increasing by 2 stars per row until the base row has 2n - 1 stars."
   ]
  },
  {
   "cell_type": "code",
   "execution_count": 23,
   "metadata": {},
   "outputs": [
    {
     "data": {
      "text/plain": [
       "['*', '***', '*****', '*******', '*********']"
      ]
     },
     "execution_count": 23,
     "metadata": {},
     "output_type": "execute_result"
    }
   ],
   "source": [
    "def generate_pyramid(n):\n",
    "    # [ '*' , '***' , '*****' ]\n",
    "    pattern = []\n",
    "    \n",
    "    for i in range(n+1):\n",
    "        odd = 2 * i - 1\n",
    "        if (odd < 0):\n",
    "            pass\n",
    "        else:\n",
    "            pattern.append('*' * odd)\n",
    "        \n",
    "    return pattern\n",
    "generate_pyramid(5)"
   ]
  },
  {
   "cell_type": "code",
   "execution_count": 34,
   "metadata": {},
   "outputs": [
    {
     "data": {
      "text/plain": [
       "['  *  ', ' *** ', '*****']"
      ]
     },
     "execution_count": 34,
     "metadata": {},
     "output_type": "execute_result"
    }
   ],
   "source": [
    "def gen_pyramid(n):\n",
    "    pattern = []\n",
    "    \n",
    "    for i in range(1,n+1):\n",
    "        \n",
    "        \n",
    "        spaces = ' ' * (n-i)\n",
    "        patt = '*' * (2 * i - 1)  \n",
    "        pattern.append(spaces+patt+spaces)\n",
    "    return pattern\n",
    "gen_pyramid(3)"
   ]
  },
  {
   "cell_type": "markdown",
   "metadata": {},
   "source": [
    "### Functions Problems\n"
   ]
  },
  {
   "cell_type": "markdown",
   "metadata": {},
   "source": [
    "##### Celsius to Farenheit"
   ]
  },
  {
   "cell_type": "code",
   "execution_count": 1,
   "metadata": {},
   "outputs": [
    {
     "data": {
      "text/plain": [
       "89.6"
      ]
     },
     "execution_count": 1,
     "metadata": {},
     "output_type": "execute_result"
    }
   ],
   "source": [
    "def celsius_to_fahrenheit(C):\n",
    "    temp = (9/5 * C) + 32\n",
    "     \n",
    "    return temp\n",
    "celsius_to_fahrenheit(32)"
   ]
  },
  {
   "cell_type": "markdown",
   "metadata": {},
   "source": [
    "##### Area of Rectangle"
   ]
  },
  {
   "cell_type": "code",
   "execution_count": 9,
   "metadata": {},
   "outputs": [
    {
     "name": "stdout",
     "output_type": "stream",
     "text": [
      "None\n"
     ]
    }
   ],
   "source": [
    "\n",
    "\n",
    "def Area(l,b):\n",
    "    if (l>b & b>l):\n",
    "        area_rectangle = (l * b)\n",
    "        return area_rectangle\n",
    "    else:\n",
    "        return None\n",
    "\n",
    "\n",
    "print(Area(12,10))"
   ]
  },
  {
   "cell_type": "code",
   "execution_count": null,
   "metadata": {},
   "outputs": [],
   "source": []
  }
 ],
 "metadata": {
  "kernelspec": {
   "display_name": "Python 3",
   "language": "python",
   "name": "python3"
  },
  "language_info": {
   "codemirror_mode": {
    "name": "ipython",
    "version": 3
   },
   "file_extension": ".py",
   "mimetype": "text/x-python",
   "name": "python",
   "nbconvert_exporter": "python",
   "pygments_lexer": "ipython3",
   "version": "3.12.6"
  }
 },
 "nbformat": 4,
 "nbformat_minor": 2
}
