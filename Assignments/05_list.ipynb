{
 "cells": [
  {
   "cell_type": "code",
   "execution_count": 1,
   "metadata": {},
   "outputs": [
    {
     "name": "stdout",
     "output_type": "stream",
     "text": [
      "[1, 'Hello', 'Aditya']\n"
     ]
    }
   ],
   "source": [
    "mixed_lists = [1,\"Hello\",'Aditya']\n",
    "print(mixed_lists)"
   ]
  },
  {
   "cell_type": "code",
   "execution_count": 3,
   "metadata": {},
   "outputs": [],
   "source": [
    "friuts = [\"apple\",\"banana\",\"cherry\",\"guava\",\"kiwi\"]\n"
   ]
  },
  {
   "cell_type": "code",
   "execution_count": 21,
   "metadata": {},
   "outputs": [
    {
     "name": "stdout",
     "output_type": "stream",
     "text": [
      "6\n",
      "3\n",
      "1\n",
      "Sry!! No fruit found\n"
     ]
    }
   ],
   "source": [
    "\n",
    "marks = [1,2,3,6,4,5]\n",
    "print(marks[-3])\n",
    "print(marks[len(marks)-4])\n",
    "print(marks[0])\n",
    "\n",
    "if \"pear\" in friuts:\n",
    "    print(\"fruit is Present!!\")\n",
    "else:\n",
    "    print(\"Sry!! No fruit found\")"
   ]
  },
  {
   "cell_type": "code",
   "execution_count": 22,
   "metadata": {},
   "outputs": [
    {
     "ename": "SyntaxError",
     "evalue": "invalid syntax (172200299.py, line 4)",
     "output_type": "error",
     "traceback": [
      "\u001b[0;36m  Cell \u001b[0;32mIn[22], line 4\u001b[0;36m\u001b[0m\n\u001b[0;31m    for item in name:\u001b[0m\n\u001b[0m    ^\u001b[0m\n\u001b[0;31mSyntaxError\u001b[0m\u001b[0;31m:\u001b[0m invalid syntax\n"
     ]
    }
   ],
   "source": [
    "name = [\"Milo\",\"Bruno\",\"Anasthesia\",\"Rossy\",\"Sarah\"]\n",
    "\n",
    "names_withO = [\n",
    "    for item in name:\n",
    "    if \"o\" in item\n",
    "]\n",
    "print(names_withO)"
   ]
  },
  {
   "cell_type": "code",
   "execution_count": null,
   "metadata": {},
   "outputs": [],
   "source": []
  }
 ],
 "metadata": {
  "kernelspec": {
   "display_name": "Python 3",
   "language": "python",
   "name": "python3"
  },
  "language_info": {
   "codemirror_mode": {
    "name": "ipython",
    "version": 3
   },
   "file_extension": ".py",
   "mimetype": "text/x-python",
   "name": "python",
   "nbconvert_exporter": "python",
   "pygments_lexer": "ipython3",
   "version": "3.12.0"
  }
 },
 "nbformat": 4,
 "nbformat_minor": 2
}
