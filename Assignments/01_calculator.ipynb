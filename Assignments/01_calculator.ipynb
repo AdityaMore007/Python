{
 "cells": [
  {
   "cell_type": "code",
   "execution_count": 1,
   "metadata": {},
   "outputs": [
    {
     "name": "stdout",
     "output_type": "stream",
     "text": [
      "Result:  540.0\n"
     ]
    }
   ],
   "source": [
    "num1 = float(input(\"Enter the Number: \"))\n",
    "num2 = float(input(\"Enter the Number: \"))\n",
    "\n",
    "operation = input(\"Add,Sub,Mul,Div\")\n",
    "\n",
    "if operation == \"Add\":\n",
    "    Result = num1 + num2\n",
    "elif operation == \"sub\":\n",
    "    Result = num1 - num2\n",
    "elif operation == \"Mul\":\n",
    "    Result = num1 * num2\n",
    "elif operation == \"Div\":\n",
    "    if num2 != 0:\n",
    "        Result = num1 / num2\n",
    "    else:\n",
    "        Result = \"Error! Number is not divisible by zero\"\n",
    "else:\n",
    "    Result = \"InValid Operation!!\"\n",
    "\n",
    "print(\"Result: \",Result)\n",
    "\n"
   ]
  },
  {
   "cell_type": "code",
   "execution_count": 2,
   "metadata": {},
   "outputs": [
    {
     "name": "stdout",
     "output_type": "stream",
     "text": [
      "The Ticket fare is $60\n"
     ]
    }
   ],
   "source": [
    "## determine the ticket price based on age and whether the person is a Student.\n",
    "TAdult = 100\n",
    "Tchild = 50\n",
    "TElder = 80\n",
    "tStudent = 60\n",
    "\n",
    "\n",
    "Age = int(input(\"Enter the AGE: \"))\n",
    "is_Student = input(\"Are you a student?\")\n",
    "if (Age < 12):\n",
    "    print(f\"the Ticket fare is ${Tchild}\")\n",
    "elif (Age>12 and Age<=18):\n",
    "    if is_Student == \"yes\":\n",
    "        print(f\"The Ticket fare is ${tStudent}\")\n",
    "    else:\n",
    "        print(f\"The Ticket fare is ${Tchild}\")\n",
    "elif (Age>18 and Age<55):\n",
    "    print(f\"The Ticket fare is ${TAdult}\")\n",
    "elif (Age>55):\n",
    "    print(f\"The Ticket fare is ${TElder}\")\n",
    "\n",
    "\n"
   ]
  },
  {
   "cell_type": "code",
   "execution_count": null,
   "metadata": {},
   "outputs": [],
   "source": []
  }
 ],
 "metadata": {
  "kernelspec": {
   "display_name": "Python 3",
   "language": "python",
   "name": "python3"
  },
  "language_info": {
   "codemirror_mode": {
    "name": "ipython",
    "version": 3
   },
   "file_extension": ".py",
   "mimetype": "text/x-python",
   "name": "python",
   "nbconvert_exporter": "python",
   "pygments_lexer": "ipython3",
   "version": "3.12.0"
  }
 },
 "nbformat": 4,
 "nbformat_minor": 2
}
